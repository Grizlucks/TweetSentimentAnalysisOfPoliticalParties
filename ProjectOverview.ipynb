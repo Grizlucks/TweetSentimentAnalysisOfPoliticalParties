{
 "cells": [
  {
   "cell_type": "markdown",
   "metadata": {},
   "source": [
    "# COGS 108 - Final Project Proposal"
   ]
  },
  {
   "cell_type": "markdown",
   "metadata": {},
   "source": [
    "# Names\n",
    "\n",
    "- Costin Smilovici\n",
    "- George Gavrilov\n",
    "- Karen Gong\n",
    "- Aleene Baiza\n",
    "- Vedan Desai"
   ]
  },
  {
   "cell_type": "markdown",
   "metadata": {},
   "source": [
    "# Research Question"
   ]
  },
  {
   "cell_type": "markdown",
   "metadata": {},
   "source": [
    "Does one US political party have a tendency to disproportionately use more negative sentiment on Twitter than the other and if so, what motivates this?"
   ]
  },
  {
   "cell_type": "markdown",
   "metadata": {},
   "source": [
    "## Background and Prior Work"
   ]
  },
  {
   "cell_type": "markdown",
   "metadata": {},
   "source": [
    "In the research paper, “Influx of Migrants versus People in Need – A Combined Analysis of Framing and Connotation in the Lampedusa News Coverage” by Vivien Benert & Anne Beier, analyzes the methods that news outlets utilize to manipulate the general public’s response to an event. One method in particular is the specific word choices the outlets used to frame the event in the sentiments that they want. They describe the spark of debate towards migrations that came from news outlets choosing to use the word “refugee” versus a phrase with less emotional weight such as “people in need”. Based on this example, the sentiments of a piece of passage can greatly affect the reader’s interpretation of an event, which is also a tactic employed by US politicians on the Twitter platform.\n",
    "\n",
    "This method of communication is discussed further in the article “The Language of Right-Wing Populist Leaders: Not So Simple” by Duncan McDonnell and Stefano Ondelli. The authors describe the various conventions that different political parties use to gain support for their narrative. For example, the right-wing populists tend to frame “the people” as members of society that have values aligned to their cause, while anyone who are against these values would be dismissed with the term of “the others”. This provides a sense of camaraderie for the audience they are speaking to, and a push for “the others” to follow the convention they established with the usage of the “the people”. With Twitter being such a popular social media platform, the sentiments from a single politician has the potential to manipulate the masses. \n",
    "\n",
    "Sentiments analysis has been a much discussed topic specifically in the business industry, where consumer response is nit-picked by analysts. However, these same research tactics can be applied to the political world where politicians find more and more ways to convey their agendas. In modern times, Twitter has become a platform for US politicians to voice their opinions on events in a way that has the potential to sway the masses. We are interested in the whether a specific party tend to use more negative sentiments by existing employing sentiment analysis models on tweets collected from Twitter’s API. The collection will help show the relationship between partisan tweets and the tactics used in those tweets. \n",
    "\n",
    "1 Benert, Vivien. Beier, Anne (2016). Influx of Migrants versus People in Need – A Combined Analysis of Framing and Connotation in the Lampedusa News Coverage. 1-23. Available at: https://www.db-thueringen.de/servlets/MCRFileNodeServlet/dbt_derivate_00035502/GMJ11_Benert_Beier.pdf\n",
    "\n",
    "2 McDonnell, D., & Ondelli, S. (2020). The Language of Right-Wing Populist Leaders: Not So Simple. Perspectives on Politics, 1-14. Available at: https://www.cambridge.org/core/journals/perspectives-on-politics/article/abs/language-of-rightwing-populist-leaders-not-so-simple/\t"
   ]
  },
  {
   "cell_type": "markdown",
   "metadata": {},
   "source": [
    "# Hypothesis\n"
   ]
  },
  {
   "cell_type": "markdown",
   "metadata": {},
   "source": [
    "Our hypothesis is that tweets made by right wing politicians will use disproportionally more negative sentiment than left wing politicians. Furthermore we believe that, if our hypothesis holds true, controversial political topics will feature more frequently in these negative tweets. "
   ]
  },
  {
   "cell_type": "markdown",
   "metadata": {},
   "source": [
    "# Data"
   ]
  },
  {
   "cell_type": "markdown",
   "metadata": {},
   "source": [
    "The ideal dataset we'd want to answer this question would have features related to sentiment, the user's political affiliation, and then regular Twitter metadata. To be more specific, we'd ideally want most of the following: \n",
    "- Tweet body (string)\n",
    "- Tweet hashtags (list/string/atomic data structure)\n",
    "- Tweet views (int)\n",
    "- Tweet likes (int) \n",
    "- Tweet replies (int)\n",
    "- Retweets (int)\n",
    "- Tweet date (datetime)\n",
    "- User handle (string) \n",
    "- User's political affiliation (string)\n",
    "- Positive/Negative/Neutral sentiment (numerical/string)\n",
    "\n",
    "Really we could just answer the first part of our question with the last two variables, however in order to gain more insight into which contexts would motivate negative sentiment from politicians and to enable further exploration, we'd like most of the other data as well. In addition, the sentiment score doesn't need to be available in the raw data itself; that part can be generated during the EDA/modeling step. The number of observations we're looking for depends on the number of current active US politicians on Twitter. Ideally we'd want a good sample size of tweets made by politicians. Since there are approximately, as of 2019, 519,682 politicians in the United States<a name=\"cite_ref-1\"></a>[<sup>[1]</sup>](#cite_note-1), and most if not all of them are likely active on Twitter, using the logic that there is a roughly 50/50 split in terms of Democrats and Republicans and our population is large, we'd be looking for a representative sample that adheres to the following statistical convention<a name=\"cite_ref-2\"></a>[<sup>[1]</sup>](#cite_note-2):\n",
    "$$\n",
    "a = \\frac{Z^2 \\cdot p \\cdot (1 - p)}{e^2}\\\\\n",
    "n = N \\cdot \\frac{a}{N - 1 + a}\n",
    "$$\n",
    "Using a conservative sample proportion, $p$ of 0.5, our population, $N$ is 519,682 with an error margin, $e$ of 0.05, and finally a very standard Z-score of 1.96 which corresponds to a 95% confidence interval, we arrive at a value of 384.16 for $a$, and therefore a value of 384 for $n$, which means that we would need the tweets of at least 384 politicians to arrive at a representative sample. Twitter is used very frequently, so perhaps getting 6 months to a year's worth of tweets would suffice. Estimating that at approximately 100 tweets per user means that we need at least 100 $\\cdot$ 384 tweets so 38400 tweets would be an acceptable dataset size, but of course it all boils down to the limitations of the Twitter API.\n",
    "\n",
    "The Twitter API is renowned for being one of the most accessible, in-depth, and well-documented APIs on the internet and can be found at the following link: https://developer.twitter.com/en/docs/twitter-api. That being said, a major obstruction on the last project relating to data was that, at least from our access level, for regular users no more than their last week's worth of tweets could be fetched. However for politicians and other public figures, this appears to not be the case. As such it's possible to scrape a dataset of tweets from politicians on Twitter, and in addition to this there are other datasets of US political tweets available on the internet, for example: https://tweetsets.library.gwu.edu/datasets?msclkid=ffe59482cd8511ecac1bfb14c0f62e76. \n",
    "\n",
    "Finally, and most simply, we would store our data inside of a csv as a semi-structured file. This will allow us to use Pandas methods on it in Jupyter Notebooks, and furthermore allow our raw data itself to be visible and clear to potential audiences for our project.\n",
    "\n",
    "<a name=\"cite_note-1\"></a>1. [^](#cite_ref-1) Eastman, B. (2019, August 1). How many politicians are there in the USA? (infographic). PoliEngine. Retrieved April 22, 2022, from https://tinylink.net/OR5Uh\n",
    "\n",
    "<a name=\"cite_note-2\"></a>2. [^](#cite_ref-2) Vaidya, D., &amp; Thakur, M. (2022, March 9). Sample size formula. WallStreetMojo. Retrieved April 22, 2022, from https://www.wallstreetmojo.com/sample-size-formula/"
   ]
  },
  {
   "cell_type": "markdown",
   "metadata": {},
   "source": [
    "# Ethics & Privacy"
   ]
  },
  {
   "cell_type": "markdown",
   "metadata": {},
   "source": [
    "A major concern of this research focus is the possible invasion of privacy as the data comes from public accounts that contain personal information. Since Twitter posts are linked to the poster’s account information, it is important that steps are taken to anonymize the data collected. One of such would be to detach the specific politician’s identity from the tweet itself. Another step would be to remove keywords that might lead to the identification of the politician. With the exception of keeping the publically available information of what political party they are affiliated to, all other personal information would be anonymized.\n",
    "\n",
    "Although the research question relies on data collected from political representatives, it targets an issue that affects all consumers of social media. With the pervasiveness of social media in the everyday lives of the masses, the lens that a narrative is casted through has the potential to skew a consumer’s interpretation of a situation. Therefore it is important to analyze whether a specific political party has more tendency to use negative sentiments, and if so, attempt to grasp the motivation behind their usage of negative sentiments."
   ]
  },
  {
   "cell_type": "markdown",
   "metadata": {},
   "source": [
    "# Team Expectations "
   ]
  },
  {
   "cell_type": "markdown",
   "metadata": {},
   "source": [
    "* Consistent attendance at team meetings regarding project progress\n",
    "* Frequent monitoring of team communications platform (Discord, or other main platform)\n",
    "* Completion of individual tasks by team-set deadlines, or early notification of inability to complete task well in advance\n",
    "* Polite and reasonable discourse during team meetings"
   ]
  },
  {
   "cell_type": "markdown",
   "metadata": {},
   "source": [
    "# Project Timeline Proposal"
   ]
  },
  {
   "cell_type": "markdown",
   "metadata": {},
   "source": [
    "| Meeting Date  | Meeting Time| Completed Before Meeting  | Discuss at Meeting |\n",
    "|---|---|---|---|\n",
    "| 4/21  |  6:30 PM | Potential good articles sent in via Discord | Complete project proposal background and prior work section | \n",
    "| 4/21  |  11:59 PM |  Background and prior work section completed | Complete ethics and privacy section | \n",
    "| 4/22  | 1 PM  | Ethics/Privacy and Prior Work/Background completed | Complete data section  |\n",
    "| 4/22 | 10:00 PM | Edit, finalize, and submit proposal; Search for datasets  | Discuss Wrangling and possible analytical approaches; Assign group members to lead each specific part   |\n",
    "| 4/27  | 1 PM  | Begin Importing & Wrangling Data (Costin) | Progress on creating dataset, and potential EDA  |\n",
    "| 5/04 | 1 PM  | Finalize Data (Costin) & Begin EDA (Vedan) | Complete Data Checkpoint, begin EDA Checkpoint |\n",
    "| 5/11  | 1 PM  | Finalize EDA (Vedan) & Begin Analysis (Karen/George) | Discuss model and hypothesis test |\n",
    "| 5/18  | 1 PM | Finalize Analysis (Karen/George) & Finish EDA Checkpoint (Vedan) | Complete EDA Checkpoint |\n",
    "| 5/25 | 1 PM | Finalize Project | Discuss conclusion/insights and finish journalization |\n",
    "| 6/01  | 1 PM | Finish Project | Discuss final submission and submit final project |"
   ]
  },
  {
   "cell_type": "code",
   "execution_count": null,
   "metadata": {},
   "outputs": [],
   "source": []
  }
 ],
 "metadata": {
  "kernelspec": {
   "display_name": "Python 3",
   "language": "python",
   "name": "python3"
  },
  "language_info": {
   "codemirror_mode": {
    "name": "ipython",
    "version": 3
   },
   "file_extension": ".py",
   "mimetype": "text/x-python",
   "name": "python",
   "nbconvert_exporter": "python",
   "pygments_lexer": "ipython3",
   "version": "3.8.8"
  }
 },
 "nbformat": 4,
 "nbformat_minor": 2
}
