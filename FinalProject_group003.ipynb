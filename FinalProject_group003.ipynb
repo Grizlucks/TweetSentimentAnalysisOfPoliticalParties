{
 "cells": [
  {
   "cell_type": "markdown",
   "metadata": {},
   "source": [
    "# Tweet Sentiment & US Political Parties"
   ]
  },
  {
   "cell_type": "markdown",
   "metadata": {},
   "source": [
    "## Permissions\n",
    "\n",
    "Place an `X` in the appropriate bracket below to specify if you would like your group's project to be made available to the public. (Note that student names will be included (but PIDs will be scraped from any groups who include their PIDs).\n",
    "\n",
    "* [ X ] YES - make available\n",
    "* [  ] NO - keep private\n",
    "\n",
    "\n",
    "**Video Link:** https://www.youtube.com/watch?v=ICWFvSzvpA4"
   ]
  },
  {
   "cell_type": "markdown",
   "metadata": {},
   "source": [
    "# Overview"
   ]
  },
  {
   "cell_type": "markdown",
   "metadata": {},
   "source": [
    "In order to determine if one US political party disproportionately tweets more negatively than the other, and to discover what motivates this, the tweets of numerous US political representatives were pulled from Twitter using the Twitter API. This data was then cleaned, and using VADER, a sentiment analyzer, a sentiment was assigned to each tweet based on how postive or negative the tonality was predicted to be. Then the data was used for inferential analyses to arrive at three conclusions: Firstly, that overall Democrats used disproportionately more negative sentiment in their tweets than Republicans, second that engagement is likely not a motivator for this difference, but two topics could have reasonably motivated this relationship (COVID, and taxes). "
   ]
  },
  {
   "cell_type": "markdown",
   "metadata": {},
   "source": [
    "# Names\n",
    "\n",
    "- Costin Smilovici\n",
    "- George Gavrilov\n",
    "- Karen Gong\n",
    "- Aleene Baiza\n",
    "- Vedan Desai"
   ]
  },
  {
   "cell_type": "markdown",
   "metadata": {},
   "source": [
    "<a id='research_question'></a>\n",
    "# Research Question"
   ]
  },
  {
   "cell_type": "markdown",
   "metadata": {},
   "source": [
    "Does one US political party have a tendency to disproportionately use more negative sentiment on Twitter than the other and if so, what motivates this?"
   ]
  },
  {
   "cell_type": "markdown",
   "metadata": {},
   "source": [
    "<a id='background'></a>\n",
    "\n",
    "## Background & Prior Work"
   ]
  },
  {
   "cell_type": "markdown",
   "metadata": {},
   "source": [
    "In the research paper, “Influx of Migrants versus People in Need – A Combined Analysis of Framing and Connotation in the Lampedusa News Coverage” by Vivien Benert & Anne Beier, analyzes the methods that news outlets utilize to manipulate the general public’s response to an event. One method in particular is the specific word choices the outlets used to frame the event in the sentiments that they want. They describe the spark of debate towards migrations that came from news outlets choosing to use the word “refugee” versus a phrase with less emotional weight such as “people in need”. Based on this example, the sentiments of a piece of passage can greatly affect the reader’s interpretation of an event, which is also a tactic employed by US politicians on the Twitter platform.\n",
    "\n",
    "This method of communication is discussed further in the article “The Language of Right-Wing Populist Leaders: Not So Simple” by Duncan McDonnell and Stefano Ondelli. The authors describe the various conventions that different political parties use to gain support for their narrative. For example, the right-wing populists tend to frame “the people” as members of society that have values aligned to their cause, while anyone who are against these values would be dismissed with the term of “the others”. This provides a sense of camaraderie for the audience they are speaking to, and a push for “the others” to follow the convention they established with the usage of the “the people”. With Twitter being such a popular social media platform, the sentiments from a single politician has the potential to manipulate the masses. \n",
    "\n",
    "Sentiments analysis has been a much discussed topic specifically in the business industry, where consumer response is nit-picked by analysts. However, these same research tactics can be applied to the political world where politicians find more and more ways to convey their agendas. In modern times, Twitter has become a platform for US politicians to voice their opinions on events in a way that has the potential to sway the masses. We are interested in the whether a specific party tend to use more negative sentiments by existing employing sentiment analysis models on tweets collected from Twitter’s API. The collection will help show the relationship between partisan tweets and the tactics used in those tweets. \n",
    "\n",
    "References (include links):\n",
    "- 1) Benert, Vivien. Beier, Anne (2016). Influx of Migrants versus People in Need – A Combined Analysis of Framing and Connotation in the Lampedusa News Coverage. 1-23. Available at: https://www.db-thueringen.de/servlets/MCRFileNodeServlet/dbt_derivate_00035502/GMJ11_Benert_Beier.pdf\n",
    "- 2) McDonnell, D., & Ondelli, S. (2020). The Language of Right-Wing Populist Leaders: Not So Simple. Perspectives on Politics, 1-14. Available at: https://www.cambridge.org/core/journals/perspectives-on-politics/article/abs/language-of-rightwing-populist-leaders-not-so-simple/"
   ]
  },
  {
   "cell_type": "markdown",
   "metadata": {},
   "source": [
    "# Hypothesis\n"
   ]
  },
  {
   "cell_type": "markdown",
   "metadata": {},
   "source": [
    "Our hypothesis is that tweets made by right wing politicians will use disproportionally more negative sentiment than left wing politicians. Furthermore we believe that, if our hypothesis holds true, controversial political topics will feature more frequently in these negative tweets. "
   ]
  },
  {
   "cell_type": "markdown",
   "metadata": {},
   "source": [
    "# Dataset(s)"
   ]
  },
  {
   "cell_type": "markdown",
   "metadata": {},
   "source": [
    "Dataset 1\n",
    "- Dataset Name: Tweets made by Representatives and Senators of the 115th and 116th Congress\n",
    "- Link to the dataset: https://tweetsets.library.gwu.edu/datasets\n",
    "- Number of observations: 3,674,077 with 4 datasets combined\n",
    "- Description: 4 datasets (\"congress116-senate-ids.txt\", \"congress116-house-ids.txt\", \"representatives-1.txt\", \"senators-1.txt\") that we later combine into one in order to have a collection of all Twitter accounts that belong to Representatives and Senators of the 115th and 116th Congress. The dataset has one column, which is a column of all IDs of all those Twitter accounts. That will help us to identify if any tweets belong to any of the accounts within this dataset.\n",
    "\n",
    "Dataset 2\n",
    "- Dataset name: Twitter API \"Tweet Lookup\" Utility\n",
    "Link to dataset: https://github.com/twitterdev/Twitter-API-v2-sample-code/blob/main/Tweet-Lookup/get_tweets_with_bearer_token.py\n",
    "- Number of observations: The last week's worth of tweets for any regular user, and the entire tweet history for all - public figures. Thus in our case, exactly the number of observations we want: Approximately 67000.\n",
    "- Description: This dataset has the ability to contain at least 19 different features, all of which are relatively useful for some purpose. However for our purposes we will be using the following:\n",
    "    - id\n",
    "        - A string data type that is the unique identifier of a tweet.\n",
    "    - text\n",
    "        - A string data type that is the actual UTF-8 text of the Tweet. See twitter-text for details on what characters are currently considered valid.\n",
    "    - author_id\n",
    "        - A string data type that is the unique identifier of the User who posted this Tweet.\n",
    "    - created_at\n",
    "        - A date (ISO 8601) data type that is the creation time of the Tweet.\n",
    "    - entities (hashtags)\n",
    "        - A json object that contains the start index of the hashtags in the tweet.\n",
    "    - public_metrics\n",
    "        - A json object that contains engagement metrics like retweet count, reply count, like count, and quote count.\n",
    "\n",
    "Dataset 3\n",
    "- Dataset Name: Politicians tracked by Politwoops \n",
    "- Link to Dataset: [Politicians tracked by Politwoops](https://www.propublica.org/datastore/dataset/politicians-tracked-by-politwoops) \n",
    "- Number of Observations: 2193 \n",
    "- Description: This data set documents deleted tweets from campaign or official accounts of federal officeholders, candidates, governors, and gubernatorial candidates. The specific columns that we would use would just be twitter_id and party_name but all column descriptions are listed below:\n",
    "\n",
    "    - user_name:\n",
    "        - A string of the Twitter account's username\n",
    "    - twitter_id: \n",
    "        - A unique numeric Twitter ID for the \"user_name\" account. \n",
    "    - party_name: \n",
    "        - A string of the Twitter user's political affiliation. \n",
    "    - state\n",
    "        - A string of the Twitter user's state that they represent or represented. \n",
    "    - office_title\n",
    "        - The Twitter users' office title.\n",
    "    - account_type: \n",
    "        - A string describing what type of account this Twitter user is using. \n",
    "    - first_name\n",
    "        - First name of the politician\n",
    "    - middle_name\n",
    "        - Middle name of the politician\n",
    "    - last_name\n",
    "        - Last name of the politician\n",
    "    - suffix\n",
    "        - Suffix on the politician within Congress\n",
    "    - status\n",
    "        - 1 if the Twitter account is active and 0 if it is not\n",
    "    - collecting\n",
    "        - Boolean data type that seems to display whether or not Politwoops is collecting from this acct.\n",
    "    - showing\n",
    "        - Boolean data type that seems to display whether or not Politwoops is showing from this acct.\n",
    "    - bioguide_id\n",
    "        - A string data type that serves as a unique identifier\n",
    "    - gender\n",
    "        - A string data type that serves as an identifier of a person's gender\n",
    "    - fec_candidate_id\n",
    "        - A string data type that represents an acct's Federal Election Commission candidate ID\n",
    "    - district\n",
    "        - A numerical data type that represents the congressional district of an account\n",
    "    - branch\n",
    "        - A string data type that represents the branch of government a political figure serves in \n",
    "        \n",
    "All three of these datasets are used to create our finalized dataset, although not all features make it all the way through to the end. The first dataset listed above that contains tweet ids for all congress members of the 115th and 116th sessions, so that is used to query the Twitter api and generate the second of our datasets above which will also contain user id. After that, we join this dataset to the 3rd dataset to add in a feature that represents the political affiliation of each observation, this yields our final dataset."
   ]
  },
  {
   "cell_type": "markdown",
   "metadata": {},
   "source": [
    "# Setup"
   ]
  },
  {
   "cell_type": "code",
   "execution_count": 1,
   "metadata": {},
   "outputs": [
    {
     "name": "stderr",
     "output_type": "stream",
     "text": [
      "[nltk_data] Downloading package stopwords to\n",
      "[nltk_data]     /Users/costinsmilovici/nltk_data...\n",
      "[nltk_data]   Package stopwords is already up-to-date!\n",
      "[nltk_data] Downloading package punkt to\n",
      "[nltk_data]     /Users/costinsmilovici/nltk_data...\n",
      "[nltk_data]   Package punkt is already up-to-date!\n",
      "[nltk_data] Downloading package vader_lexicon to\n",
      "[nltk_data]     /Users/costinsmilovici/nltk_data...\n",
      "[nltk_data]   Package vader_lexicon is already up-to-date!\n"
     ]
    }
   ],
   "source": [
    "import pandas as pd\n",
    "import numpy as np\n",
    "import seaborn as sns\n",
    "\n",
    "import os\n",
    "from requests_oauthlib import OAuth1Session\n",
    "import json\n",
    "# Contains the API key information that will be needed for querying the Twitter API\n",
    "API_KEY_SEC = \"7OhJs7m9jxh7LSoEKiGxPvew0saGE92kexzEOqLhjn8Jjuw85j\"\n",
    "API_KEY = \"X0d8SI0eYV8FP4Csz0EPU2So7\"\n",
    "# The sample size for the number of tweets we will use \n",
    "# (NOTE: For the real cleaned data file we used a sample size of 100000)\n",
    "SAMPLE_SIZE = 5000\n",
    "\n",
    "import patsy\n",
    "import matplotlib.pyplot as plt\n",
    "from scipy import stats\n",
    "import statsmodels.api as sm\n",
    "import statsmodels.formula.api as smf\n",
    "plt.rcParams['figure.figsize'] = (17, 7)\n",
    "plt.rcParams.update({'font.size': 14})\n",
    "%config InlineBackend.figure_format ='retina'\n",
    "import warnings\n",
    "warnings.filterwarnings('ignore')\n",
    "import nltk\n",
    "import ssl\n",
    "try:\n",
    "    _create_unverified_https_context = ssl._create_unverified_context\n",
    "except AttributeError:\n",
    "    pass\n",
    "else:\n",
    "    ssl._create_default_https_context = _create_unverified_https_context\n",
    "nltk.download('stopwords')\n",
    "nltk.download('punkt')\n",
    "nltk.download('vader_lexicon') \n",
    "from nltk.tokenize import word_tokenize\n",
    "\n",
    "# import stop words\n",
    "from nltk.corpus import stopwords\n",
    "stop_words = set(stopwords.words('english'))\n",
    "\n",
    "from nltk.stem import PorterStemmer\n",
    "\n",
    "ps = PorterStemmer()\n",
    "\n",
    "from nltk.probability import FreqDist\n",
    "import string\n",
    "from nltk.sentiment.vader import SentimentIntensityAnalyzer \n",
    "analyser = SentimentIntensityAnalyzer()"
   ]
  },
  {
   "cell_type": "markdown",
   "metadata": {},
   "source": [
    "# Data Cleaning"
   ]
  },
  {
   "cell_type": "markdown",
   "metadata": {},
   "source": [
    "To obtain the clean data we need to merge the existing datasets together as they are given in a tidy form already."
   ]
  },
  {
   "cell_type": "markdown",
   "metadata": {},
   "source": [
    "First we can load the data containing all tweets from all congress members from the 115th and 116th congresses"
   ]
  },
  {
   "cell_type": "code",
   "execution_count": 2,
   "metadata": {
    "scrolled": false
   },
   "outputs": [],
   "source": [
    "senate_tweets = pd.read_csv(\"./DataFiles/congress116/congress116-senate-ids.txt\",header=None)\n",
    "house_tweets = pd.read_csv(\"./DataFiles/congress116/congress116-house-ids.txt\",header=None)\n",
    "house_tweets2 = pd.read_csv(\"./DataFiles/congress115/representatives-1.txt\",header=None)\n",
    "senate_tweets2 = pd.read_csv(\"./DataFiles/congress115/senators-1.txt\",header=None)"
   ]
  },
  {
   "cell_type": "markdown",
   "metadata": {},
   "source": [
    "We can then concatenate the data into a single column and drop duplicates such the result is one column that contains all of the unique tweets from congress members from the 115th and 116th congresses"
   ]
  },
  {
   "cell_type": "code",
   "execution_count": 3,
   "metadata": {
    "scrolled": false
   },
   "outputs": [
    {
     "data": {
      "text/html": [
       "<div>\n",
       "<style scoped>\n",
       "    .dataframe tbody tr th:only-of-type {\n",
       "        vertical-align: middle;\n",
       "    }\n",
       "\n",
       "    .dataframe tbody tr th {\n",
       "        vertical-align: top;\n",
       "    }\n",
       "\n",
       "    .dataframe thead th {\n",
       "        text-align: right;\n",
       "    }\n",
       "</style>\n",
       "<table border=\"1\" class=\"dataframe\">\n",
       "  <thead>\n",
       "    <tr style=\"text-align: right;\">\n",
       "      <th></th>\n",
       "      <th>0</th>\n",
       "    </tr>\n",
       "  </thead>\n",
       "  <tbody>\n",
       "    <tr>\n",
       "      <th>0</th>\n",
       "      <td>1136262855588810753</td>\n",
       "    </tr>\n",
       "    <tr>\n",
       "      <th>1</th>\n",
       "      <td>1134178369673863169</td>\n",
       "    </tr>\n",
       "    <tr>\n",
       "      <th>2</th>\n",
       "      <td>1133015265619402754</td>\n",
       "    </tr>\n",
       "    <tr>\n",
       "      <th>3</th>\n",
       "      <td>1136007350706475016</td>\n",
       "    </tr>\n",
       "    <tr>\n",
       "      <th>4</th>\n",
       "      <td>1136003439270477824</td>\n",
       "    </tr>\n",
       "  </tbody>\n",
       "</table>\n",
       "</div>"
      ],
      "text/plain": [
       "                     0\n",
       "0  1136262855588810753\n",
       "1  1134178369673863169\n",
       "2  1133015265619402754\n",
       "3  1136007350706475016\n",
       "4  1136003439270477824"
      ]
     },
     "execution_count": 3,
     "metadata": {},
     "output_type": "execute_result"
    }
   ],
   "source": [
    "poli_tweets = pd.concat([senate_tweets,house_tweets,senate_tweets2,house_tweets2])\n",
    "poli_tweets = poli_tweets.drop_duplicates()\n",
    "poli_tweets.head()"
   ]
  },
  {
   "cell_type": "code",
   "execution_count": 4,
   "metadata": {},
   "outputs": [
    {
     "data": {
      "text/plain": [
       "(3674077, 1)"
      ]
     },
     "execution_count": 4,
     "metadata": {},
     "output_type": "execute_result"
    }
   ],
   "source": [
    "poli_tweets.shape"
   ]
  },
  {
   "cell_type": "markdown",
   "metadata": {},
   "source": [
    "Because there are 3,674,077 tweets in the final column, we will only take a sample from this of which we defined the sample size as 5,000 for this example. Recall from our Project Proposal that we needed a sample of 39,000 meaning that our actual cleaned data file which has 67,038 samples should be sufficient."
   ]
  },
  {
   "cell_type": "code",
   "execution_count": 5,
   "metadata": {
    "scrolled": true
   },
   "outputs": [
    {
     "data": {
      "text/html": [
       "<div>\n",
       "<style scoped>\n",
       "    .dataframe tbody tr th:only-of-type {\n",
       "        vertical-align: middle;\n",
       "    }\n",
       "\n",
       "    .dataframe tbody tr th {\n",
       "        vertical-align: top;\n",
       "    }\n",
       "\n",
       "    .dataframe thead th {\n",
       "        text-align: right;\n",
       "    }\n",
       "</style>\n",
       "<table border=\"1\" class=\"dataframe\">\n",
       "  <thead>\n",
       "    <tr style=\"text-align: right;\">\n",
       "      <th></th>\n",
       "      <th>0</th>\n",
       "    </tr>\n",
       "  </thead>\n",
       "  <tbody>\n",
       "    <tr>\n",
       "      <th>190865</th>\n",
       "      <td>775729553738260484</td>\n",
       "    </tr>\n",
       "    <tr>\n",
       "      <th>300498</th>\n",
       "      <td>941068661351157761</td>\n",
       "    </tr>\n",
       "    <tr>\n",
       "      <th>77400</th>\n",
       "      <td>1058425426668933120</td>\n",
       "    </tr>\n",
       "    <tr>\n",
       "      <th>139908</th>\n",
       "      <td>1063257348351832065</td>\n",
       "    </tr>\n",
       "    <tr>\n",
       "      <th>678898</th>\n",
       "      <td>1140972496503607297</td>\n",
       "    </tr>\n",
       "  </tbody>\n",
       "</table>\n",
       "</div>"
      ],
      "text/plain": [
       "                          0\n",
       "190865   775729553738260484\n",
       "300498   941068661351157761\n",
       "77400   1058425426668933120\n",
       "139908  1063257348351832065\n",
       "678898  1140972496503607297"
      ]
     },
     "execution_count": 5,
     "metadata": {},
     "output_type": "execute_result"
    }
   ],
   "source": [
    "np.random.seed(57)\n",
    "sample = poli_tweets.sample(SAMPLE_SIZE,replace=False)\n",
    "sample.head()"
   ]
  },
  {
   "cell_type": "code",
   "execution_count": 6,
   "metadata": {},
   "outputs": [
    {
     "data": {
      "text/plain": [
       "(5000, 1)"
      ]
     },
     "execution_count": 6,
     "metadata": {},
     "output_type": "execute_result"
    }
   ],
   "source": [
    "sample.shape"
   ]
  },
  {
   "cell_type": "markdown",
   "metadata": {},
   "source": [
    "The Twitter API only allows for searching 100 tweets at a time in the form of a comma seperated string. Because of this, the following loop turns our sample into a list containing 50 strings of 100 comma seperated IDs."
   ]
  },
  {
   "cell_type": "code",
   "execution_count": 7,
   "metadata": {},
   "outputs": [],
   "source": [
    "search_arr = []\n",
    "for i in range(SAMPLE_SIZE//100):\n",
    "    search_str = \"\"\n",
    "    tweet = sample.iloc[(i*100):(i*100 + 100),0]\n",
    "    for ele in tweet:\n",
    "        search_str += str(ele) + \",\"\n",
    "    search_str = search_str[:-1]\n",
    "    search_arr += [search_str]"
   ]
  },
  {
   "cell_type": "markdown",
   "metadata": {},
   "source": [
    "This code is Twitter's authentication code for python so it can largely be ignored\n",
    "\n",
    "**Source: https://github.com/twitterdev/Twitter-API-v2-sample-code/blob/main/Tweet-Lookup/get_tweets_with_user_context.py**"
   ]
  },
  {
   "cell_type": "code",
   "execution_count": 8,
   "metadata": {
    "scrolled": false
   },
   "outputs": [
    {
     "name": "stdout",
     "output_type": "stream",
     "text": [
      "Got OAuth token: N3wGiwAAAAABcUJ0AAABgToEUxM\n",
      "Please go here and authorize: https://api.twitter.com/oauth/authorize?oauth_token=N3wGiwAAAAABcUJ0AAABgToEUxM\n",
      "Paste the PIN here: 2372839\n"
     ]
    }
   ],
   "source": [
    "# To set your enviornment variables in your terminal run the following line:\n",
    "consumer_key = API_KEY\n",
    "consumer_secret = API_KEY_SEC\n",
    "\n",
    "request_token_url = \"https://api.twitter.com/oauth/request_token\"\n",
    "oauth = OAuth1Session(consumer_key, client_secret=consumer_secret)\n",
    "\n",
    "try:\n",
    "    fetch_response = oauth.fetch_request_token(request_token_url)\n",
    "except ValueError:\n",
    "    print(\n",
    "        \"There may have been an issue with the consumer_key or consumer_secret you entered.\"\n",
    "    )\n",
    "\n",
    "resource_owner_key = fetch_response.get(\"oauth_token\")\n",
    "resource_owner_secret = fetch_response.get(\"oauth_token_secret\")\n",
    "print(\"Got OAuth token: %s\" % resource_owner_key)\n",
    "\n",
    "# Get authorization\n",
    "base_authorization_url = \"https://api.twitter.com/oauth/authorize\"\n",
    "authorization_url = oauth.authorization_url(base_authorization_url)\n",
    "print(\"Please go here and authorize: %s\" % authorization_url)\n",
    "verifier = input(\"Paste the PIN here: \")\n",
    "\n",
    "# Get the access token\n",
    "access_token_url = \"https://api.twitter.com/oauth/access_token\"\n",
    "oauth = OAuth1Session(\n",
    "    consumer_key,\n",
    "    client_secret=consumer_secret,\n",
    "    resource_owner_key=resource_owner_key,\n",
    "    resource_owner_secret=resource_owner_secret,\n",
    "    verifier=verifier,\n",
    ")\n",
    "oauth_tokens = oauth.fetch_access_token(access_token_url)\n",
    "\n",
    "\n",
    "access_token = oauth_tokens[\"oauth_token\"]\n",
    "access_token_secret = oauth_tokens[\"oauth_token_secret\"]\n",
    "\n",
    "# Make the request\n",
    "oauth = OAuth1Session(\n",
    "    consumer_key,\n",
    "    client_secret=consumer_secret,\n",
    "    resource_owner_key=access_token,\n",
    "    resource_owner_secret=access_token_secret,\n",
    ")"
   ]
  },
  {
   "cell_type": "markdown",
   "metadata": {},
   "source": [
    "This code calls the API for each of the 100 tweet long strings in our list containing all of these strings. This then creates an array of dataframes that we can concatenate into one large dataframe. Note not all tweets are able to be obtained likely because of changed accessing rights on the tweet itself. Nonetheless, most of the tweets should be available given that these are policitian twitter accounts."
   ]
  },
  {
   "cell_type": "code",
   "execution_count": 9,
   "metadata": {
    "scrolled": true
   },
   "outputs": [],
   "source": [
    "API_Tweets = []\n",
    "\n",
    "for i in range(SAMPLE_SIZE//100):\n",
    "    params = {\"ids\": search_arr[i], \"tweet.fields\": \"created_at,author_id,entities,public_metrics\"}\n",
    "    response = oauth.get(\n",
    "        \"https://api.twitter.com/2/tweets\", params=params\n",
    "    )\n",
    "    if response.status_code != 200:\n",
    "        raise Exception(\n",
    "            \"Request returned an error: {} {}\".format(response.status_code, response.text)\n",
    "        )\n",
    "    json_response = response.json()\n",
    "    dataframed_response = pd.DataFrame(json_response[\"data\"])[[\"entities\",\"public_metrics\",\"author_id\",\"text\",\"created_at\"]]\n",
    "    API_Tweets += [dataframed_response]"
   ]
  },
  {
   "cell_type": "markdown",
   "metadata": {},
   "source": [
    "Now that we have the 50 tweet dataframes in an array we can do pd.concat to get the entire dataframe containing tweets from politicians."
   ]
  },
  {
   "cell_type": "code",
   "execution_count": 10,
   "metadata": {
    "scrolled": true
   },
   "outputs": [
    {
     "data": {
      "text/html": [
       "<div>\n",
       "<style scoped>\n",
       "    .dataframe tbody tr th:only-of-type {\n",
       "        vertical-align: middle;\n",
       "    }\n",
       "\n",
       "    .dataframe tbody tr th {\n",
       "        vertical-align: top;\n",
       "    }\n",
       "\n",
       "    .dataframe thead th {\n",
       "        text-align: right;\n",
       "    }\n",
       "</style>\n",
       "<table border=\"1\" class=\"dataframe\">\n",
       "  <thead>\n",
       "    <tr style=\"text-align: right;\">\n",
       "      <th></th>\n",
       "      <th>entities</th>\n",
       "      <th>public_metrics</th>\n",
       "      <th>author_id</th>\n",
       "      <th>text</th>\n",
       "      <th>created_at</th>\n",
       "    </tr>\n",
       "  </thead>\n",
       "  <tbody>\n",
       "    <tr>\n",
       "      <th>0</th>\n",
       "      <td>{'urls': [{'start': 89, 'end': 112, 'url': 'ht...</td>\n",
       "      <td>{'retweet_count': 4, 'reply_count': 0, 'like_c...</td>\n",
       "      <td>431105217</td>\n",
       "      <td>Garrett was 1 of just a handful of fringe extr...</td>\n",
       "      <td>2016-09-13T16:15:12.000Z</td>\n",
       "    </tr>\n",
       "    <tr>\n",
       "      <th>1</th>\n",
       "      <td>{'urls': [{'start': 153, 'end': 176, 'url': 'h...</td>\n",
       "      <td>{'retweet_count': 93, 'reply_count': 15, 'like...</td>\n",
       "      <td>250188760</td>\n",
       "      <td>Republicans have reportedly settled on even BI...</td>\n",
       "      <td>2017-12-13T22:13:47.000Z</td>\n",
       "    </tr>\n",
       "    <tr>\n",
       "      <th>2</th>\n",
       "      <td>{'annotations': [{'start': 32, 'end': 46, 'pro...</td>\n",
       "      <td>{'retweet_count': 3212, 'reply_count': 467, 'l...</td>\n",
       "      <td>17494010</td>\n",
       "      <td>What the @AARP has to say about President Trum...</td>\n",
       "      <td>2018-11-02T18:27:40.000Z</td>\n",
       "    </tr>\n",
       "    <tr>\n",
       "      <th>3</th>\n",
       "      <td>{'urls': [{'start': 73, 'end': 96, 'url': 'htt...</td>\n",
       "      <td>{'retweet_count': 422, 'reply_count': 358, 'li...</td>\n",
       "      <td>30354991</td>\n",
       "      <td>This incredibly powerful video is a must watch...</td>\n",
       "      <td>2018-11-16T02:28:00.000Z</td>\n",
       "    </tr>\n",
       "    <tr>\n",
       "      <th>4</th>\n",
       "      <td>{'urls': [{'start': 115, 'end': 138, 'url': 'h...</td>\n",
       "      <td>{'retweet_count': 5, 'reply_count': 12, 'like_...</td>\n",
       "      <td>2964949642</td>\n",
       "      <td>Spoke America’s global leadership, diplomacy &amp;...</td>\n",
       "      <td>2019-06-18T13:20:16.000Z</td>\n",
       "    </tr>\n",
       "  </tbody>\n",
       "</table>\n",
       "</div>"
      ],
      "text/plain": [
       "                                            entities  \\\n",
       "0  {'urls': [{'start': 89, 'end': 112, 'url': 'ht...   \n",
       "1  {'urls': [{'start': 153, 'end': 176, 'url': 'h...   \n",
       "2  {'annotations': [{'start': 32, 'end': 46, 'pro...   \n",
       "3  {'urls': [{'start': 73, 'end': 96, 'url': 'htt...   \n",
       "4  {'urls': [{'start': 115, 'end': 138, 'url': 'h...   \n",
       "\n",
       "                                      public_metrics   author_id  \\\n",
       "0  {'retweet_count': 4, 'reply_count': 0, 'like_c...   431105217   \n",
       "1  {'retweet_count': 93, 'reply_count': 15, 'like...   250188760   \n",
       "2  {'retweet_count': 3212, 'reply_count': 467, 'l...    17494010   \n",
       "3  {'retweet_count': 422, 'reply_count': 358, 'li...    30354991   \n",
       "4  {'retweet_count': 5, 'reply_count': 12, 'like_...  2964949642   \n",
       "\n",
       "                                                text                created_at  \n",
       "0  Garrett was 1 of just a handful of fringe extr...  2016-09-13T16:15:12.000Z  \n",
       "1  Republicans have reportedly settled on even BI...  2017-12-13T22:13:47.000Z  \n",
       "2  What the @AARP has to say about President Trum...  2018-11-02T18:27:40.000Z  \n",
       "3  This incredibly powerful video is a must watch...  2018-11-16T02:28:00.000Z  \n",
       "4  Spoke America’s global leadership, diplomacy &...  2019-06-18T13:20:16.000Z  "
      ]
     },
     "execution_count": 10,
     "metadata": {},
     "output_type": "execute_result"
    }
   ],
   "source": [
    "tweet_text = pd.concat(API_Tweets)\n",
    "tweet_text.head()"
   ]
  },
  {
   "cell_type": "markdown",
   "metadata": {},
   "source": [
    "We can take a quick look at the dtypes to see if there is any cleaning that is needed:"
   ]
  },
  {
   "cell_type": "code",
   "execution_count": 11,
   "metadata": {},
   "outputs": [
    {
     "data": {
      "text/plain": [
       "entities          object\n",
       "public_metrics    object\n",
       "author_id         object\n",
       "text              object\n",
       "created_at        object\n",
       "dtype: object"
      ]
     },
     "execution_count": 11,
     "metadata": {},
     "output_type": "execute_result"
    }
   ],
   "source": [
    "tweet_text.dtypes"
   ]
  },
  {
   "cell_type": "markdown",
   "metadata": {},
   "source": [
    "Notice that they are all objects and from looking at the data frame we have some dictionaries. Thus we need to do some cleaning as follows:\n",
    "- **entities:** Extract the hashtags that are contained in the tweets for further analysis.\n",
    "- **public_metrics:** Extract all of the values and make them their own columns for engagement analysis.\n",
    "- **author_id:** Turn the column into a numerical column to allow for future merging\n",
    "- **created_at:** Turn the column into a datetime column to allow time based analysis"
   ]
  },
  {
   "cell_type": "code",
   "execution_count": 12,
   "metadata": {
    "scrolled": true
   },
   "outputs": [
    {
     "data": {
      "text/html": [
       "<div>\n",
       "<style scoped>\n",
       "    .dataframe tbody tr th:only-of-type {\n",
       "        vertical-align: middle;\n",
       "    }\n",
       "\n",
       "    .dataframe tbody tr th {\n",
       "        vertical-align: top;\n",
       "    }\n",
       "\n",
       "    .dataframe thead th {\n",
       "        text-align: right;\n",
       "    }\n",
       "</style>\n",
       "<table border=\"1\" class=\"dataframe\">\n",
       "  <thead>\n",
       "    <tr style=\"text-align: right;\">\n",
       "      <th></th>\n",
       "      <th>author_id</th>\n",
       "      <th>text</th>\n",
       "      <th>created_at</th>\n",
       "      <th>hashtags</th>\n",
       "      <th>retweet_count</th>\n",
       "      <th>reply_count</th>\n",
       "      <th>like_count</th>\n",
       "      <th>quote_count</th>\n",
       "    </tr>\n",
       "  </thead>\n",
       "  <tbody>\n",
       "    <tr>\n",
       "      <th>0</th>\n",
       "      <td>431105217</td>\n",
       "      <td>Garrett was 1 of just a handful of fringe extr...</td>\n",
       "      <td>2016-09-13 16:15:12+00:00</td>\n",
       "      <td>[VAWA]</td>\n",
       "      <td>4</td>\n",
       "      <td>0</td>\n",
       "      <td>5</td>\n",
       "      <td>0</td>\n",
       "    </tr>\n",
       "    <tr>\n",
       "      <th>1</th>\n",
       "      <td>250188760</td>\n",
       "      <td>Republicans have reportedly settled on even BI...</td>\n",
       "      <td>2017-12-13 22:13:47+00:00</td>\n",
       "      <td>[]</td>\n",
       "      <td>93</td>\n",
       "      <td>15</td>\n",
       "      <td>97</td>\n",
       "      <td>6</td>\n",
       "    </tr>\n",
       "    <tr>\n",
       "      <th>2</th>\n",
       "      <td>17494010</td>\n",
       "      <td>What the @AARP has to say about President Trum...</td>\n",
       "      <td>2018-11-02 18:27:40+00:00</td>\n",
       "      <td>[]</td>\n",
       "      <td>3212</td>\n",
       "      <td>467</td>\n",
       "      <td>4806</td>\n",
       "      <td>165</td>\n",
       "    </tr>\n",
       "    <tr>\n",
       "      <th>3</th>\n",
       "      <td>30354991</td>\n",
       "      <td>This incredibly powerful video is a must watch...</td>\n",
       "      <td>2018-11-16 02:28:00+00:00</td>\n",
       "      <td>[TransAwarenessWeek]</td>\n",
       "      <td>422</td>\n",
       "      <td>358</td>\n",
       "      <td>1171</td>\n",
       "      <td>45</td>\n",
       "    </tr>\n",
       "    <tr>\n",
       "      <th>4</th>\n",
       "      <td>2964949642</td>\n",
       "      <td>Spoke America’s global leadership, diplomacy &amp;...</td>\n",
       "      <td>2019-06-18 13:20:16+00:00</td>\n",
       "      <td>[]</td>\n",
       "      <td>5</td>\n",
       "      <td>12</td>\n",
       "      <td>29</td>\n",
       "      <td>2</td>\n",
       "    </tr>\n",
       "    <tr>\n",
       "      <th>...</th>\n",
       "      <td>...</td>\n",
       "      <td>...</td>\n",
       "      <td>...</td>\n",
       "      <td>...</td>\n",
       "      <td>...</td>\n",
       "      <td>...</td>\n",
       "      <td>...</td>\n",
       "      <td>...</td>\n",
       "    </tr>\n",
       "    <tr>\n",
       "      <th>88</th>\n",
       "      <td>364415553</td>\n",
       "      <td>.@realDonaldTrump is profiting off the Preside...</td>\n",
       "      <td>2018-01-11 17:20:04+00:00</td>\n",
       "      <td>[]</td>\n",
       "      <td>43</td>\n",
       "      <td>15</td>\n",
       "      <td>62</td>\n",
       "      <td>7</td>\n",
       "    </tr>\n",
       "    <tr>\n",
       "      <th>89</th>\n",
       "      <td>242426145</td>\n",
       "      <td>RT @CongressmanRaja: We don't have to choose b...</td>\n",
       "      <td>2017-02-03 13:37:48+00:00</td>\n",
       "      <td>[]</td>\n",
       "      <td>705</td>\n",
       "      <td>0</td>\n",
       "      <td>0</td>\n",
       "      <td>0</td>\n",
       "    </tr>\n",
       "    <tr>\n",
       "      <th>90</th>\n",
       "      <td>109287731</td>\n",
       "      <td>RT @JamesFoleyFund: Thank you @RepTedDeutch (F...</td>\n",
       "      <td>2019-06-24 21:33:36+00:00</td>\n",
       "      <td>[]</td>\n",
       "      <td>6</td>\n",
       "      <td>0</td>\n",
       "      <td>0</td>\n",
       "      <td>0</td>\n",
       "    </tr>\n",
       "    <tr>\n",
       "      <th>91</th>\n",
       "      <td>31801993</td>\n",
       "      <td>Today outside a Claire’s in Sea Girt I called ...</td>\n",
       "      <td>2018-02-02 21:49:29+00:00</td>\n",
       "      <td>[]</td>\n",
       "      <td>3</td>\n",
       "      <td>1</td>\n",
       "      <td>7</td>\n",
       "      <td>0</td>\n",
       "    </tr>\n",
       "    <tr>\n",
       "      <th>92</th>\n",
       "      <td>357606935</td>\n",
       "      <td>We need to win Nevada to take back the Senate ...</td>\n",
       "      <td>2018-06-24 16:46:00+00:00</td>\n",
       "      <td>[]</td>\n",
       "      <td>479</td>\n",
       "      <td>121</td>\n",
       "      <td>2235</td>\n",
       "      <td>22</td>\n",
       "    </tr>\n",
       "  </tbody>\n",
       "</table>\n",
       "<p>4753 rows × 8 columns</p>\n",
       "</div>"
      ],
      "text/plain": [
       "     author_id                                               text  \\\n",
       "0    431105217  Garrett was 1 of just a handful of fringe extr...   \n",
       "1    250188760  Republicans have reportedly settled on even BI...   \n",
       "2     17494010  What the @AARP has to say about President Trum...   \n",
       "3     30354991  This incredibly powerful video is a must watch...   \n",
       "4   2964949642  Spoke America’s global leadership, diplomacy &...   \n",
       "..         ...                                                ...   \n",
       "88   364415553  .@realDonaldTrump is profiting off the Preside...   \n",
       "89   242426145  RT @CongressmanRaja: We don't have to choose b...   \n",
       "90   109287731  RT @JamesFoleyFund: Thank you @RepTedDeutch (F...   \n",
       "91    31801993  Today outside a Claire’s in Sea Girt I called ...   \n",
       "92   357606935  We need to win Nevada to take back the Senate ...   \n",
       "\n",
       "                  created_at              hashtags  retweet_count  \\\n",
       "0  2016-09-13 16:15:12+00:00                [VAWA]              4   \n",
       "1  2017-12-13 22:13:47+00:00                    []             93   \n",
       "2  2018-11-02 18:27:40+00:00                    []           3212   \n",
       "3  2018-11-16 02:28:00+00:00  [TransAwarenessWeek]            422   \n",
       "4  2019-06-18 13:20:16+00:00                    []              5   \n",
       "..                       ...                   ...            ...   \n",
       "88 2018-01-11 17:20:04+00:00                    []             43   \n",
       "89 2017-02-03 13:37:48+00:00                    []            705   \n",
       "90 2019-06-24 21:33:36+00:00                    []              6   \n",
       "91 2018-02-02 21:49:29+00:00                    []              3   \n",
       "92 2018-06-24 16:46:00+00:00                    []            479   \n",
       "\n",
       "    reply_count  like_count  quote_count  \n",
       "0             0           5            0  \n",
       "1            15          97            6  \n",
       "2           467        4806          165  \n",
       "3           358        1171           45  \n",
       "4            12          29            2  \n",
       "..          ...         ...          ...  \n",
       "88           15          62            7  \n",
       "89            0           0            0  \n",
       "90            0           0            0  \n",
       "91            1           7            0  \n",
       "92          121        2235           22  \n",
       "\n",
       "[4753 rows x 8 columns]"
      ]
     },
     "execution_count": 12,
     "metadata": {},
     "output_type": "execute_result"
    }
   ],
   "source": [
    "# Concat all of the returned tweet dataframes \n",
    "tweet_text = pd.concat(API_Tweets)\n",
    "# Author IDs needs to be numeric for merging purposes\n",
    "tweet_text[\"author_id\"] = tweet_text[\"author_id\"].astype(int)\n",
    "\n",
    "# Get the hashtags from the entities dictionaries and convert it into a list of hashtage\n",
    "tweet_text[\"hashtags\"] = (tweet_text[\"entities\"]\n",
    "                          .apply(lambda x: [ele['tag'] for ele in x.get(\"hashtags\",[])] if type(x) == dict else []))\n",
    "\n",
    "# Get all of the value names from the public metrics dictionary inorder to make the columns\n",
    "public_metrics_cols = list(tweet_text[\"public_metrics\"].iloc[0].keys())\n",
    "public_metrics_cols\n",
    "\n",
    "# Create the columns containing the public metrics data\n",
    "for col in public_metrics_cols:\n",
    "    tweet_text[col] = (tweet_text[\"public_metrics\"]\n",
    "                           .apply(lambda x: x.get(col,0)))\n",
    "    \n",
    "# Convert the created_at value to datetime\n",
    "tweet_text[\"created_at\"] = pd.to_datetime(tweet_text[\"created_at\"])\n",
    "\n",
    "# Drop the columns with dictionaries\n",
    "tweet_text = tweet_text.drop(columns=[\"entities\",\"public_metrics\"])\n",
    "\n",
    "tweet_text"
   ]
  },
  {
   "cell_type": "markdown",
   "metadata": {},
   "source": [
    "With the author's account ids and the tweet text, we can now use the \"Politicians tracked by Politwoops\" dataset from ProPublica Data Store to get the party affiliation of the representatives."
   ]
  },
  {
   "cell_type": "code",
   "execution_count": 13,
   "metadata": {
    "scrolled": false
   },
   "outputs": [
    {
     "data": {
      "text/html": [
       "<div>\n",
       "<style scoped>\n",
       "    .dataframe tbody tr th:only-of-type {\n",
       "        vertical-align: middle;\n",
       "    }\n",
       "\n",
       "    .dataframe tbody tr th {\n",
       "        vertical-align: top;\n",
       "    }\n",
       "\n",
       "    .dataframe thead th {\n",
       "        text-align: right;\n",
       "    }\n",
       "</style>\n",
       "<table border=\"1\" class=\"dataframe\">\n",
       "  <thead>\n",
       "    <tr style=\"text-align: right;\">\n",
       "      <th></th>\n",
       "      <th>user_name</th>\n",
       "      <th>twitter_id</th>\n",
       "      <th>party_name</th>\n",
       "      <th>state</th>\n",
       "      <th>office_title</th>\n",
       "      <th>account_type</th>\n",
       "      <th>first_name</th>\n",
       "      <th>middle_name</th>\n",
       "      <th>last_name</th>\n",
       "      <th>suffix</th>\n",
       "      <th>status</th>\n",
       "      <th>collecting</th>\n",
       "      <th>showing</th>\n",
       "      <th>bioguide_id</th>\n",
       "      <th>gender</th>\n",
       "      <th>fec_candidate_id</th>\n",
       "      <th>district</th>\n",
       "      <th>branch</th>\n",
       "    </tr>\n",
       "  </thead>\n",
       "  <tbody>\n",
       "    <tr>\n",
       "      <th>0</th>\n",
       "      <td>MorgunSholtyNV</td>\n",
       "      <td>1491675900257058818</td>\n",
       "      <td>Republican</td>\n",
       "      <td>NV</td>\n",
       "      <td>House Candidate</td>\n",
       "      <td>campaign</td>\n",
       "      <td>Morgun</td>\n",
       "      <td>NaN</td>\n",
       "      <td>Sholty</td>\n",
       "      <td>NaN</td>\n",
       "      <td>1</td>\n",
       "      <td>True</td>\n",
       "      <td>True</td>\n",
       "      <td>NaN</td>\n",
       "      <td>M</td>\n",
       "      <td>H2NV01280</td>\n",
       "      <td>1.0</td>\n",
       "      <td>H</td>\n",
       "    </tr>\n",
       "    <tr>\n",
       "      <th>1</th>\n",
       "      <td>BrogForNevada</td>\n",
       "      <td>1491469539313397762</td>\n",
       "      <td>Republican</td>\n",
       "      <td>NV</td>\n",
       "      <td>House Candidate</td>\n",
       "      <td>campaign</td>\n",
       "      <td>David</td>\n",
       "      <td>NaN</td>\n",
       "      <td>Brog</td>\n",
       "      <td>NaN</td>\n",
       "      <td>1</td>\n",
       "      <td>True</td>\n",
       "      <td>True</td>\n",
       "      <td>NaN</td>\n",
       "      <td>M</td>\n",
       "      <td>H2NV01298</td>\n",
       "      <td>1.0</td>\n",
       "      <td>H</td>\n",
       "    </tr>\n",
       "    <tr>\n",
       "      <th>2</th>\n",
       "      <td>CandiceforMN_D1</td>\n",
       "      <td>1503790339404058627</td>\n",
       "      <td>Democrat</td>\n",
       "      <td>MN</td>\n",
       "      <td>House Candidate</td>\n",
       "      <td>campaign</td>\n",
       "      <td>Candice</td>\n",
       "      <td>Deal</td>\n",
       "      <td>Bartell</td>\n",
       "      <td>NaN</td>\n",
       "      <td>1</td>\n",
       "      <td>True</td>\n",
       "      <td>True</td>\n",
       "      <td>NaN</td>\n",
       "      <td>F</td>\n",
       "      <td>H2MN01256</td>\n",
       "      <td>1.0</td>\n",
       "      <td>H</td>\n",
       "    </tr>\n",
       "    <tr>\n",
       "      <th>3</th>\n",
       "      <td>KenNavitsky</td>\n",
       "      <td>2800279758</td>\n",
       "      <td>Republican</td>\n",
       "      <td>MN</td>\n",
       "      <td>House Candidate</td>\n",
       "      <td>campaign</td>\n",
       "      <td>Ken</td>\n",
       "      <td>NaN</td>\n",
       "      <td>Navitsky</td>\n",
       "      <td>NaN</td>\n",
       "      <td>1</td>\n",
       "      <td>True</td>\n",
       "      <td>True</td>\n",
       "      <td>NaN</td>\n",
       "      <td>M</td>\n",
       "      <td>H2MN01298</td>\n",
       "      <td>1.0</td>\n",
       "      <td>H</td>\n",
       "    </tr>\n",
       "    <tr>\n",
       "      <th>4</th>\n",
       "      <td>NelsTPierson</td>\n",
       "      <td>499072725</td>\n",
       "      <td>Republican</td>\n",
       "      <td>MN</td>\n",
       "      <td>House Candidate</td>\n",
       "      <td>campaign</td>\n",
       "      <td>Nels</td>\n",
       "      <td>NaN</td>\n",
       "      <td>Pierson</td>\n",
       "      <td>NaN</td>\n",
       "      <td>1</td>\n",
       "      <td>True</td>\n",
       "      <td>True</td>\n",
       "      <td>NaN</td>\n",
       "      <td>M</td>\n",
       "      <td>H2MN01306</td>\n",
       "      <td>1.0</td>\n",
       "      <td>H</td>\n",
       "    </tr>\n",
       "  </tbody>\n",
       "</table>\n",
       "</div>"
      ],
      "text/plain": [
       "         user_name           twitter_id  party_name state     office_title  \\\n",
       "0   MorgunSholtyNV  1491675900257058818  Republican    NV  House Candidate   \n",
       "1    BrogForNevada  1491469539313397762  Republican    NV  House Candidate   \n",
       "2  CandiceforMN_D1  1503790339404058627    Democrat    MN  House Candidate   \n",
       "3      KenNavitsky           2800279758  Republican    MN  House Candidate   \n",
       "4     NelsTPierson            499072725  Republican    MN  House Candidate   \n",
       "\n",
       "  account_type first_name middle_name last_name suffix  status  collecting  \\\n",
       "0     campaign     Morgun         NaN    Sholty    NaN       1        True   \n",
       "1     campaign      David         NaN      Brog    NaN       1        True   \n",
       "2     campaign    Candice        Deal   Bartell    NaN       1        True   \n",
       "3     campaign        Ken         NaN  Navitsky    NaN       1        True   \n",
       "4     campaign       Nels         NaN   Pierson    NaN       1        True   \n",
       "\n",
       "   showing bioguide_id gender fec_candidate_id  district branch  \n",
       "0     True         NaN      M        H2NV01280       1.0      H  \n",
       "1     True         NaN      M        H2NV01298       1.0      H  \n",
       "2     True         NaN      F        H2MN01256       1.0      H  \n",
       "3     True         NaN      M        H2MN01298       1.0      H  \n",
       "4     True         NaN      M        H2MN01306       1.0      H  "
      ]
     },
     "execution_count": 13,
     "metadata": {},
     "output_type": "execute_result"
    }
   ],
   "source": [
    "account_party = pd.read_csv(\"./DataFiles/political_party.csv\")\n",
    "account_party.head()"
   ]
  },
  {
   "cell_type": "markdown",
   "metadata": {},
   "source": [
    "We can finally finish off by doing a merge and removing the duplicates from the final dataframe to get the cleaned dataset.\n",
    "\n",
    "Note that there are no NaN values in the merged DataFrame. Because of that and because we modified the values where needed, we can assume that this data is in a clean form"
   ]
  },
  {
   "cell_type": "code",
   "execution_count": 14,
   "metadata": {
    "scrolled": false
   },
   "outputs": [
    {
     "name": "stdout",
     "output_type": "stream",
     "text": [
      "0\n"
     ]
    },
    {
     "data": {
      "text/html": [
       "<div>\n",
       "<style scoped>\n",
       "    .dataframe tbody tr th:only-of-type {\n",
       "        vertical-align: middle;\n",
       "    }\n",
       "\n",
       "    .dataframe tbody tr th {\n",
       "        vertical-align: top;\n",
       "    }\n",
       "\n",
       "    .dataframe thead th {\n",
       "        text-align: right;\n",
       "    }\n",
       "</style>\n",
       "<table border=\"1\" class=\"dataframe\">\n",
       "  <thead>\n",
       "    <tr style=\"text-align: right;\">\n",
       "      <th></th>\n",
       "      <th>text</th>\n",
       "      <th>party_name</th>\n",
       "      <th>created_at</th>\n",
       "      <th>hashtags</th>\n",
       "      <th>retweet_count</th>\n",
       "      <th>reply_count</th>\n",
       "      <th>like_count</th>\n",
       "      <th>quote_count</th>\n",
       "    </tr>\n",
       "  </thead>\n",
       "  <tbody>\n",
       "    <tr>\n",
       "      <th>0</th>\n",
       "      <td>Garrett was 1 of just a handful of fringe extr...</td>\n",
       "      <td>Democrat</td>\n",
       "      <td>2016-09-13 16:15:12+00:00</td>\n",
       "      <td>[VAWA]</td>\n",
       "      <td>4</td>\n",
       "      <td>0</td>\n",
       "      <td>5</td>\n",
       "      <td>0</td>\n",
       "    </tr>\n",
       "    <tr>\n",
       "      <th>1</th>\n",
       "      <td>\"No one fights harder than Josh to bring back ...</td>\n",
       "      <td>Democrat</td>\n",
       "      <td>2018-06-19 14:41:25+00:00</td>\n",
       "      <td>[]</td>\n",
       "      <td>0</td>\n",
       "      <td>1</td>\n",
       "      <td>2</td>\n",
       "      <td>0</td>\n",
       "    </tr>\n",
       "    <tr>\n",
       "      <th>2</th>\n",
       "      <td>\"Two years in Washington is not much time, yet...</td>\n",
       "      <td>Democrat</td>\n",
       "      <td>2018-11-01 23:20:35+00:00</td>\n",
       "      <td>[]</td>\n",
       "      <td>7</td>\n",
       "      <td>0</td>\n",
       "      <td>20</td>\n",
       "      <td>0</td>\n",
       "    </tr>\n",
       "    <tr>\n",
       "      <th>3</th>\n",
       "      <td>TODAY'S THE DAY! Stopped by the Hackensack Tra...</td>\n",
       "      <td>Democrat</td>\n",
       "      <td>2018-11-06 16:20:00+00:00</td>\n",
       "      <td>[ElectionDay]</td>\n",
       "      <td>0</td>\n",
       "      <td>2</td>\n",
       "      <td>11</td>\n",
       "      <td>0</td>\n",
       "    </tr>\n",
       "    <tr>\n",
       "      <th>4</th>\n",
       "      <td>Republicans have reportedly settled on even BI...</td>\n",
       "      <td>Democrat</td>\n",
       "      <td>2017-12-13 22:13:47+00:00</td>\n",
       "      <td>[]</td>\n",
       "      <td>93</td>\n",
       "      <td>15</td>\n",
       "      <td>97</td>\n",
       "      <td>6</td>\n",
       "    </tr>\n",
       "  </tbody>\n",
       "</table>\n",
       "</div>"
      ],
      "text/plain": [
       "                                                text party_name  \\\n",
       "0  Garrett was 1 of just a handful of fringe extr...   Democrat   \n",
       "1  \"No one fights harder than Josh to bring back ...   Democrat   \n",
       "2  \"Two years in Washington is not much time, yet...   Democrat   \n",
       "3  TODAY'S THE DAY! Stopped by the Hackensack Tra...   Democrat   \n",
       "4  Republicans have reportedly settled on even BI...   Democrat   \n",
       "\n",
       "                 created_at       hashtags  retweet_count  reply_count  \\\n",
       "0 2016-09-13 16:15:12+00:00         [VAWA]              4            0   \n",
       "1 2018-06-19 14:41:25+00:00             []              0            1   \n",
       "2 2018-11-01 23:20:35+00:00             []              7            0   \n",
       "3 2018-11-06 16:20:00+00:00  [ElectionDay]              0            2   \n",
       "4 2017-12-13 22:13:47+00:00             []             93           15   \n",
       "\n",
       "   like_count  quote_count  \n",
       "0           5            0  \n",
       "1           2            0  \n",
       "2          20            0  \n",
       "3          11            0  \n",
       "4          97            6  "
      ]
     },
     "execution_count": 14,
     "metadata": {},
     "output_type": "execute_result"
    }
   ],
   "source": [
    "cleaned_data = (tweet_text\n",
    "                    .merge(account_party,left_on=\"author_id\",right_on=\"twitter_id\")\n",
    "                    [[\"text\",\"party_name\",\"created_at\",\"hashtags\",\"retweet_count\",\"reply_count\",\"like_count\",\"quote_count\"]])\n",
    "non_duplicate_idx = cleaned_data[\"text\"].drop_duplicates().index\n",
    "cleaned_data = cleaned_data.iloc[non_duplicate_idx].reset_index().drop(columns=[\"index\"])\n",
    "cleaned_data[\"text\"] = cleaned_data[\"text\"].str.replace(\"\\r\",\" \")\n",
    "print(cleaned_data.isna().sum().sum())\n",
    "cleaned_data.head()"
   ]
  },
  {
   "cell_type": "markdown",
   "metadata": {},
   "source": [
    "Having done this process prior with a larger sample size, we have a CSV with more preprocessed and cleaned tweet information. For this reason we can load the CSV but minor cleaning is needed after loading it."
   ]
  },
  {
   "cell_type": "markdown",
   "metadata": {},
   "source": [
    "Having shown how the cleaned data was made, we will now load a file with the cleaned data to be used for analysis:"
   ]
  },
  {
   "cell_type": "code",
   "execution_count": 15,
   "metadata": {},
   "outputs": [],
   "source": [
    "df = pd.read_csv('DataFiles/cleaned_data.csv')"
   ]
  },
  {
   "cell_type": "markdown",
   "metadata": {},
   "source": [
    "There's only one column we actually have to clean, namely convert the created_at column to Pandas timestamps:"
   ]
  },
  {
   "cell_type": "code",
   "execution_count": 16,
   "metadata": {},
   "outputs": [
    {
     "data": {
      "text/plain": [
       "dtype('O')"
      ]
     },
     "execution_count": 16,
     "metadata": {},
     "output_type": "execute_result"
    }
   ],
   "source": [
    "df['created_at'].dtype"
   ]
  },
  {
   "cell_type": "code",
   "execution_count": 17,
   "metadata": {},
   "outputs": [],
   "source": [
    "df['created_at'] = pd.to_datetime(df['created_at'])"
   ]
  },
  {
   "cell_type": "markdown",
   "metadata": {},
   "source": [
    "Other than this column, every other feature appears to be in a data type we can work with:"
   ]
  },
  {
   "cell_type": "code",
   "execution_count": 18,
   "metadata": {},
   "outputs": [
    {
     "data": {
      "text/plain": [
       "text                          object\n",
       "party_name                    object\n",
       "created_at       datetime64[ns, UTC]\n",
       "hashtags                      object\n",
       "retweet_count                  int64\n",
       "reply_count                    int64\n",
       "like_count                     int64\n",
       "quote_count                    int64\n",
       "dtype: object"
      ]
     },
     "execution_count": 18,
     "metadata": {},
     "output_type": "execute_result"
    }
   ],
   "source": [
    "df.dtypes"
   ]
  },
  {
   "cell_type": "markdown",
   "metadata": {},
   "source": [
    "Next we'll check for nulls:"
   ]
  },
  {
   "cell_type": "code",
   "execution_count": 19,
   "metadata": {},
   "outputs": [
    {
     "data": {
      "text/plain": [
       "0"
      ]
     },
     "execution_count": 19,
     "metadata": {},
     "output_type": "execute_result"
    }
   ],
   "source": [
    "df.isna().sum().sum()"
   ]
  },
  {
   "cell_type": "markdown",
   "metadata": {},
   "source": [
    "There are no Pandas or numpy nulls inside of this dataset so for now it should be good enough to explore. However if we do end up running into something unclean in the following cells we will return to this section. The final cleaned data is as follows:"
   ]
  },
  {
   "cell_type": "code",
   "execution_count": 20,
   "metadata": {},
   "outputs": [
    {
     "data": {
      "text/html": [
       "<div>\n",
       "<style scoped>\n",
       "    .dataframe tbody tr th:only-of-type {\n",
       "        vertical-align: middle;\n",
       "    }\n",
       "\n",
       "    .dataframe tbody tr th {\n",
       "        vertical-align: top;\n",
       "    }\n",
       "\n",
       "    .dataframe thead th {\n",
       "        text-align: right;\n",
       "    }\n",
       "</style>\n",
       "<table border=\"1\" class=\"dataframe\">\n",
       "  <thead>\n",
       "    <tr style=\"text-align: right;\">\n",
       "      <th></th>\n",
       "      <th>text</th>\n",
       "      <th>party_name</th>\n",
       "      <th>created_at</th>\n",
       "      <th>hashtags</th>\n",
       "      <th>retweet_count</th>\n",
       "      <th>reply_count</th>\n",
       "      <th>like_count</th>\n",
       "      <th>quote_count</th>\n",
       "    </tr>\n",
       "  </thead>\n",
       "  <tbody>\n",
       "    <tr>\n",
       "      <th>0</th>\n",
       "      <td>Garrett was 1 of just a handful of fringe extr...</td>\n",
       "      <td>Democrat</td>\n",
       "      <td>2016-09-13 16:15:12+00:00</td>\n",
       "      <td>['VAWA']</td>\n",
       "      <td>4</td>\n",
       "      <td>0</td>\n",
       "      <td>5</td>\n",
       "      <td>0</td>\n",
       "    </tr>\n",
       "    <tr>\n",
       "      <th>1</th>\n",
       "      <td>\"No one fights harder than Josh to bring back ...</td>\n",
       "      <td>Democrat</td>\n",
       "      <td>2018-06-19 14:41:25+00:00</td>\n",
       "      <td>[]</td>\n",
       "      <td>0</td>\n",
       "      <td>1</td>\n",
       "      <td>2</td>\n",
       "      <td>0</td>\n",
       "    </tr>\n",
       "    <tr>\n",
       "      <th>2</th>\n",
       "      <td>\"Two years in Washington is not much time, yet...</td>\n",
       "      <td>Democrat</td>\n",
       "      <td>2018-11-01 23:20:35+00:00</td>\n",
       "      <td>[]</td>\n",
       "      <td>7</td>\n",
       "      <td>0</td>\n",
       "      <td>20</td>\n",
       "      <td>0</td>\n",
       "    </tr>\n",
       "    <tr>\n",
       "      <th>3</th>\n",
       "      <td>TODAY'S THE DAY! Stopped by the Hackensack Tra...</td>\n",
       "      <td>Democrat</td>\n",
       "      <td>2018-11-06 16:20:00+00:00</td>\n",
       "      <td>['ElectionDay']</td>\n",
       "      <td>0</td>\n",
       "      <td>2</td>\n",
       "      <td>11</td>\n",
       "      <td>0</td>\n",
       "    </tr>\n",
       "    <tr>\n",
       "      <th>4</th>\n",
       "      <td>Bergen Congressman Reacts To 'Horrific' Shooti...</td>\n",
       "      <td>Democrat</td>\n",
       "      <td>2017-06-15 19:26:50+00:00</td>\n",
       "      <td>[]</td>\n",
       "      <td>1</td>\n",
       "      <td>0</td>\n",
       "      <td>3</td>\n",
       "      <td>0</td>\n",
       "    </tr>\n",
       "  </tbody>\n",
       "</table>\n",
       "</div>"
      ],
      "text/plain": [
       "                                                text party_name  \\\n",
       "0  Garrett was 1 of just a handful of fringe extr...   Democrat   \n",
       "1  \"No one fights harder than Josh to bring back ...   Democrat   \n",
       "2  \"Two years in Washington is not much time, yet...   Democrat   \n",
       "3  TODAY'S THE DAY! Stopped by the Hackensack Tra...   Democrat   \n",
       "4  Bergen Congressman Reacts To 'Horrific' Shooti...   Democrat   \n",
       "\n",
       "                 created_at         hashtags  retweet_count  reply_count  \\\n",
       "0 2016-09-13 16:15:12+00:00         ['VAWA']              4            0   \n",
       "1 2018-06-19 14:41:25+00:00               []              0            1   \n",
       "2 2018-11-01 23:20:35+00:00               []              7            0   \n",
       "3 2018-11-06 16:20:00+00:00  ['ElectionDay']              0            2   \n",
       "4 2017-06-15 19:26:50+00:00               []              1            0   \n",
       "\n",
       "   like_count  quote_count  \n",
       "0           5            0  \n",
       "1           2            0  \n",
       "2          20            0  \n",
       "3          11            0  \n",
       "4           3            0  "
      ]
     },
     "execution_count": 20,
     "metadata": {},
     "output_type": "execute_result"
    }
   ],
   "source": [
    "df.head()"
   ]
  },
  {
   "cell_type": "markdown",
   "metadata": {},
   "source": [
    "# Data Analysis & Results"
   ]
  },
  {
   "cell_type": "markdown",
   "metadata": {},
   "source": [
    "## EDA"
   ]
  },
  {
   "cell_type": "markdown",
   "metadata": {},
   "source": [
    "Our research question revolves around political parties so it would suit our analysis to have an equal representation of both parties in the overall dataset. We will explore to determine if this is the case both visually and statistically:"
   ]
  },
  {
   "cell_type": "code",
   "execution_count": 21,
   "metadata": {},
   "outputs": [
    {
     "data": {
      "text/plain": [
       "party_name\n",
       "Democrat       0.619216\n",
       "Republican     0.372833\n",
       "Independent    0.007951\n",
       "dtype: float64"
      ]
     },
     "execution_count": 21,
     "metadata": {},
     "output_type": "execute_result"
    }
   ],
   "source": [
    "# Generate proportions to understand how well-represented every party is in our dataset\n",
    "df.value_counts(subset='party_name', normalize=True)"
   ]
  },
  {
   "cell_type": "code",
   "execution_count": 22,
   "metadata": {},
   "outputs": [
    {
     "data": {
      "text/plain": [
       "<AxesSubplot:xlabel='party_name', ylabel='0'>"
      ]
     },
     "execution_count": 22,
     "metadata": {},
     "output_type": "execute_result"
    },
    {
     "data": {
      "image/png": "[encoded data removed]",
      "text/plain": [
       "<Figure size 1224x504 with 1 Axes>"
      ]
     },
     "metadata": {
      "image/png": {
       "height": 433,
       "width": 1032
      },
      "needs_background": "light"
     },
     "output_type": "display_data"
    }
   ],
   "source": [
    "# Plot the result from the above cell\n",
    "to_plot = pd.DataFrame(df.value_counts(subset='party_name'))\n",
    "sns.barplot(x=to_plot.index, y=to_plot[0], palette=['darkblue', 'darkred', 'green'])"
   ]
  },
  {
   "cell_type": "markdown",
   "metadata": {},
   "source": [
    "As the above cells demonstrate our dataset has a significantly higher proportion of Democrats than Republicans. Proportionally Democrats sit at 62%, Republicans sit at 37% and Independets sit at approximately 1% of the dataset. Thus we may have to resample within groups to create a more equal dataset that will allow us to draw more statistically powerful conclusions. In addition there are still independents in this dataset. For future use, it would be helpful to have a dataset without independents:"
   ]
  },
  {
   "cell_type": "code",
   "execution_count": 23,
   "metadata": {},
   "outputs": [],
   "source": [
    "demsreps = df[df['party_name'] != 'Independent']"
   ]
  },
  {
   "cell_type": "markdown",
   "metadata": {},
   "source": [
    "One minor line of inquiry we could explore in addition to looking at the average sentiment of the political parties is whether or not the severity of the sentiment in a tweet has an effect on the engagement metrics of the tweet. This may help determine the motivation for having a tweet with a very high sentiment (negative or positive). With that in mind, we can look at the statistics related to those metrics:"
   ]
  },
  {
   "cell_type": "code",
   "execution_count": 24,
   "metadata": {
    "scrolled": false
   },
   "outputs": [
    {
     "data": {
      "text/html": [
       "<div>\n",
       "<style scoped>\n",
       "    .dataframe tbody tr th:only-of-type {\n",
       "        vertical-align: middle;\n",
       "    }\n",
       "\n",
       "    .dataframe tbody tr th {\n",
       "        vertical-align: top;\n",
       "    }\n",
       "\n",
       "    .dataframe thead th {\n",
       "        text-align: right;\n",
       "    }\n",
       "</style>\n",
       "<table border=\"1\" class=\"dataframe\">\n",
       "  <thead>\n",
       "    <tr style=\"text-align: right;\">\n",
       "      <th></th>\n",
       "      <th>retweet_count</th>\n",
       "      <th>reply_count</th>\n",
       "      <th>like_count</th>\n",
       "      <th>quote_count</th>\n",
       "    </tr>\n",
       "  </thead>\n",
       "  <tbody>\n",
       "    <tr>\n",
       "      <th>count</th>\n",
       "      <td>66505.000000</td>\n",
       "      <td>66505.000000</td>\n",
       "      <td>66505.000000</td>\n",
       "      <td>66505.000000</td>\n",
       "    </tr>\n",
       "    <tr>\n",
       "      <th>mean</th>\n",
       "      <td>324.062627</td>\n",
       "      <td>42.120322</td>\n",
       "      <td>398.869032</td>\n",
       "      <td>10.258432</td>\n",
       "    </tr>\n",
       "    <tr>\n",
       "      <th>std</th>\n",
       "      <td>3474.385439</td>\n",
       "      <td>467.994040</td>\n",
       "      <td>4011.452402</td>\n",
       "      <td>131.648070</td>\n",
       "    </tr>\n",
       "    <tr>\n",
       "      <th>min</th>\n",
       "      <td>0.000000</td>\n",
       "      <td>0.000000</td>\n",
       "      <td>0.000000</td>\n",
       "      <td>0.000000</td>\n",
       "    </tr>\n",
       "    <tr>\n",
       "      <th>25%</th>\n",
       "      <td>2.000000</td>\n",
       "      <td>0.000000</td>\n",
       "      <td>0.000000</td>\n",
       "      <td>0.000000</td>\n",
       "    </tr>\n",
       "    <tr>\n",
       "      <th>50%</th>\n",
       "      <td>5.000000</td>\n",
       "      <td>1.000000</td>\n",
       "      <td>4.000000</td>\n",
       "      <td>0.000000</td>\n",
       "    </tr>\n",
       "    <tr>\n",
       "      <th>75%</th>\n",
       "      <td>24.000000</td>\n",
       "      <td>4.000000</td>\n",
       "      <td>26.000000</td>\n",
       "      <td>1.000000</td>\n",
       "    </tr>\n",
       "    <tr>\n",
       "      <th>max</th>\n",
       "      <td>329623.000000</td>\n",
       "      <td>31317.000000</td>\n",
       "      <td>283009.000000</td>\n",
       "      <td>17059.000000</td>\n",
       "    </tr>\n",
       "  </tbody>\n",
       "</table>\n",
       "</div>"
      ],
      "text/plain": [
       "       retweet_count   reply_count     like_count   quote_count\n",
       "count   66505.000000  66505.000000   66505.000000  66505.000000\n",
       "mean      324.062627     42.120322     398.869032     10.258432\n",
       "std      3474.385439    467.994040    4011.452402    131.648070\n",
       "min         0.000000      0.000000       0.000000      0.000000\n",
       "25%         2.000000      0.000000       0.000000      0.000000\n",
       "50%         5.000000      1.000000       4.000000      0.000000\n",
       "75%        24.000000      4.000000      26.000000      1.000000\n",
       "max    329623.000000  31317.000000  283009.000000  17059.000000"
      ]
     },
     "execution_count": 24,
     "metadata": {},
     "output_type": "execute_result"
    }
   ],
   "source": [
    "demsreps.describe()"
   ]
  },
  {
   "cell_type": "markdown",
   "metadata": {},
   "source": [
    "Notice that the measures of central tendency are relatively low, while the measures of spread are rather high. Furthermore, looking at the quartiles of the data, there seems to be a right skew so we can try to apply a log transformation to these values as that can correct for skewness in cases like these:"
   ]
  },
  {
   "cell_type": "code",
   "execution_count": 25,
   "metadata": {},
   "outputs": [],
   "source": [
    "for col in ['retweet_count', 'reply_count', 'like_count', 'quote_count']:\n",
    "    demsreps[\"logged_\" + col] = np.log10(demsreps[col]+1)"
   ]
  },
  {
   "cell_type": "code",
   "execution_count": 26,
   "metadata": {},
   "outputs": [
    {
     "data": {
      "text/plain": [
       "<AxesSubplot:xlabel='logged_quote_count', ylabel='Density'>"
      ]
     },
     "execution_count": 26,
     "metadata": {},
     "output_type": "execute_result"
    },
    {
     "data": {
      "image/png": "[encoded data removed]",
      "text/plain": [
       "<Figure size 1224x504 with 4 Axes>"
      ]
     },
     "metadata": {
      "image/png": {
       "height": 438,
       "width": 1019
      },
      "needs_background": "light"
     },
     "output_type": "display_data"
    }
   ],
   "source": [
    "fig, axs = plt.subplots(ncols=2,nrows=2)\n",
    "sns.histplot(demsreps[\"logged_retweet_count\"],ax=axs[0][0],bins=20,stat=\"density\")\n",
    "sns.histplot(demsreps[\"logged_reply_count\"],ax=axs[0][1],bins=20,stat=\"density\")\n",
    "sns.histplot(demsreps[\"logged_like_count\"],ax=axs[1][0],bins=20,stat=\"density\")\n",
    "sns.histplot(demsreps[\"logged_quote_count\"],ax=axs[1][1],bins=20,stat=\"density\")"
   ]
  },
  {
   "cell_type": "markdown",
   "metadata": {},
   "source": [
    "Looking at these plots we can see that the transformations had little effect on the skewness of the data. After trying different tranformation as well, we determined that the data is non-parametric and thus we will pursure with our line of inquiry on the relationship of sentiment and engagement with that in mind. \n",
    "\n",
    "Let us now move in to investigating the relationships between three concepts: Sentiments, party affiliation, and engagement, since that is what the bulk of our project will be comprised of. In order to do that we will have to analyze the sentiment of the tweets within our dataset, and that work is done in the following cells:"
   ]
  },
  {
   "cell_type": "code",
   "execution_count": 27,
   "metadata": {},
   "outputs": [],
   "source": [
    "# get list of the tweets from each observation\n",
    "cleaned_list = list(df['text'].values)"
   ]
  },
  {
   "cell_type": "markdown",
   "metadata": {},
   "source": [
    "VADER (Valence Aware Dictionary for Sentiment Reasoning) is a rather interesting model. It can be applied directly to unlabeled text data, and that text data does not necessarily have to be tokenized or otherwise cleaned - VADER is rather robust and is built to handle various punctuation, capitalization and even emojis, as mentioned in class. As such, it's a rather plug and play model that we deploy using the below function:"
   ]
  },
  {
   "cell_type": "code",
   "execution_count": 28,
   "metadata": {},
   "outputs": [],
   "source": [
    "# create function that will output dataframe \n",
    "# that stores sentiment information\n",
    "def get_sentiments(input_list):\n",
    "    vectorized_scores = np.vectorize(analyser.polarity_scores)\n",
    "    sentiment_scores = vectorized_scores(input_list)\n",
    "    output = pd.DataFrame(list(pd.Series(sentiment_scores).apply(lambda x: list(x.values())).values),columns=sentiment_scores[0].keys())\n",
    "    output['sentence'] = cleaned_list\n",
    "\n",
    "    return output"
   ]
  },
  {
   "cell_type": "code",
   "execution_count": 29,
   "metadata": {},
   "outputs": [],
   "source": [
    "sentiments = get_sentiments(cleaned_list)"
   ]
  },
  {
   "cell_type": "code",
   "execution_count": 30,
   "metadata": {},
   "outputs": [
    {
     "data": {
      "text/html": [
       "<div>\n",
       "<style scoped>\n",
       "    .dataframe tbody tr th:only-of-type {\n",
       "        vertical-align: middle;\n",
       "    }\n",
       "\n",
       "    .dataframe tbody tr th {\n",
       "        vertical-align: top;\n",
       "    }\n",
       "\n",
       "    .dataframe thead th {\n",
       "        text-align: right;\n",
       "    }\n",
       "</style>\n",
       "<table border=\"1\" class=\"dataframe\">\n",
       "  <thead>\n",
       "    <tr style=\"text-align: right;\">\n",
       "      <th></th>\n",
       "      <th>neg</th>\n",
       "      <th>neu</th>\n",
       "      <th>pos</th>\n",
       "      <th>compound</th>\n",
       "      <th>sentence</th>\n",
       "    </tr>\n",
       "  </thead>\n",
       "  <tbody>\n",
       "    <tr>\n",
       "      <th>0</th>\n",
       "      <td>0.125</td>\n",
       "      <td>0.875</td>\n",
       "      <td>0.000</td>\n",
       "      <td>-0.2500</td>\n",
       "      <td>Garrett was 1 of just a handful of fringe extr...</td>\n",
       "    </tr>\n",
       "    <tr>\n",
       "      <th>1</th>\n",
       "      <td>0.143</td>\n",
       "      <td>0.729</td>\n",
       "      <td>0.128</td>\n",
       "      <td>-0.1280</td>\n",
       "      <td>\"No one fights harder than Josh to bring back ...</td>\n",
       "    </tr>\n",
       "    <tr>\n",
       "      <th>2</th>\n",
       "      <td>0.043</td>\n",
       "      <td>0.911</td>\n",
       "      <td>0.047</td>\n",
       "      <td>0.0516</td>\n",
       "      <td>\"Two years in Washington is not much time, yet...</td>\n",
       "    </tr>\n",
       "    <tr>\n",
       "      <th>3</th>\n",
       "      <td>0.074</td>\n",
       "      <td>0.817</td>\n",
       "      <td>0.109</td>\n",
       "      <td>0.2244</td>\n",
       "      <td>TODAY'S THE DAY! Stopped by the Hackensack Tra...</td>\n",
       "    </tr>\n",
       "    <tr>\n",
       "      <th>4</th>\n",
       "      <td>0.231</td>\n",
       "      <td>0.769</td>\n",
       "      <td>0.000</td>\n",
       "      <td>-0.4019</td>\n",
       "      <td>Bergen Congressman Reacts To 'Horrific' Shooti...</td>\n",
       "    </tr>\n",
       "  </tbody>\n",
       "</table>\n",
       "</div>"
      ],
      "text/plain": [
       "     neg    neu    pos  compound  \\\n",
       "0  0.125  0.875  0.000   -0.2500   \n",
       "1  0.143  0.729  0.128   -0.1280   \n",
       "2  0.043  0.911  0.047    0.0516   \n",
       "3  0.074  0.817  0.109    0.2244   \n",
       "4  0.231  0.769  0.000   -0.4019   \n",
       "\n",
       "                                            sentence  \n",
       "0  Garrett was 1 of just a handful of fringe extr...  \n",
       "1  \"No one fights harder than Josh to bring back ...  \n",
       "2  \"Two years in Washington is not much time, yet...  \n",
       "3  TODAY'S THE DAY! Stopped by the Hackensack Tra...  \n",
       "4  Bergen Congressman Reacts To 'Horrific' Shooti...  "
      ]
     },
     "execution_count": 30,
     "metadata": {},
     "output_type": "execute_result"
    }
   ],
   "source": [
    "sentiments.head(5)"
   ]
  },
  {
   "cell_type": "markdown",
   "metadata": {},
   "source": [
    "Just to make sure it's working, let's find a highly positive and highly negative tweet and see if those seem positive/negative from our perspective:"
   ]
  },
  {
   "cell_type": "code",
   "execution_count": 31,
   "metadata": {},
   "outputs": [
    {
     "data": {
      "text/plain": [
       "\"Starving a child is violence. \\n\\nPunishing a mother and her family is violence \\n\\nContempt for poverty is violence. \\n\\nThis administration's attacks on #SNAP would threaten benefits for more than 100000 ppl in Massachusetts which includes 72000 children. This is child abuse. Period. https://t.co/gBfVQZcYJf\""
      ]
     },
     "execution_count": 31,
     "metadata": {},
     "output_type": "execute_result"
    }
   ],
   "source": [
    "#This line of code gets most negatively classified sentence\n",
    "sentiments.sort_values(by='compound').iloc[0]['sentence']"
   ]
  },
  {
   "cell_type": "code",
   "execution_count": 32,
   "metadata": {},
   "outputs": [
    {
     "data": {
      "text/plain": [
       "'“And love is love is love is love is love is love is love is love cannot be killed or swept aside” -- .@lin_manuel. Proud to have earned a 100 on .@HRC congressional scorecard for my support for the #LGBTQ community! https://t.co/wVxNtCmGuT'"
      ]
     },
     "execution_count": 32,
     "metadata": {},
     "output_type": "execute_result"
    }
   ],
   "source": [
    "#This line of code gets most positively classified sentence\n",
    "sentiments.sort_values(by='compound').iloc[-1]['sentence']"
   ]
  },
  {
   "cell_type": "markdown",
   "metadata": {},
   "source": [
    "So as the above two tweets demonstrate, VADER seems to be working as intended. Now that we are relatively certain that VADER is working, let's see what our derived sentiment data looks like:"
   ]
  },
  {
   "cell_type": "code",
   "execution_count": 33,
   "metadata": {},
   "outputs": [
    {
     "data": {
      "text/html": [
       "<div>\n",
       "<style scoped>\n",
       "    .dataframe tbody tr th:only-of-type {\n",
       "        vertical-align: middle;\n",
       "    }\n",
       "\n",
       "    .dataframe tbody tr th {\n",
       "        vertical-align: top;\n",
       "    }\n",
       "\n",
       "    .dataframe thead th {\n",
       "        text-align: right;\n",
       "    }\n",
       "</style>\n",
       "<table border=\"1\" class=\"dataframe\">\n",
       "  <thead>\n",
       "    <tr style=\"text-align: right;\">\n",
       "      <th></th>\n",
       "      <th>neg</th>\n",
       "      <th>neu</th>\n",
       "      <th>pos</th>\n",
       "      <th>compound</th>\n",
       "    </tr>\n",
       "  </thead>\n",
       "  <tbody>\n",
       "    <tr>\n",
       "      <th>count</th>\n",
       "      <td>67038.000000</td>\n",
       "      <td>67038.000000</td>\n",
       "      <td>67038.000000</td>\n",
       "      <td>67038.000000</td>\n",
       "    </tr>\n",
       "    <tr>\n",
       "      <th>mean</th>\n",
       "      <td>0.056502</td>\n",
       "      <td>0.799628</td>\n",
       "      <td>0.143869</td>\n",
       "      <td>0.223944</td>\n",
       "    </tr>\n",
       "    <tr>\n",
       "      <th>std</th>\n",
       "      <td>0.091035</td>\n",
       "      <td>0.145528</td>\n",
       "      <td>0.138426</td>\n",
       "      <td>0.488299</td>\n",
       "    </tr>\n",
       "    <tr>\n",
       "      <th>min</th>\n",
       "      <td>0.000000</td>\n",
       "      <td>0.088000</td>\n",
       "      <td>0.000000</td>\n",
       "      <td>-0.987100</td>\n",
       "    </tr>\n",
       "    <tr>\n",
       "      <th>25%</th>\n",
       "      <td>0.000000</td>\n",
       "      <td>0.702000</td>\n",
       "      <td>0.000000</td>\n",
       "      <td>0.000000</td>\n",
       "    </tr>\n",
       "    <tr>\n",
       "      <th>50%</th>\n",
       "      <td>0.000000</td>\n",
       "      <td>0.804000</td>\n",
       "      <td>0.126000</td>\n",
       "      <td>0.296000</td>\n",
       "    </tr>\n",
       "    <tr>\n",
       "      <th>75%</th>\n",
       "      <td>0.100000</td>\n",
       "      <td>0.902000</td>\n",
       "      <td>0.230000</td>\n",
       "      <td>0.648600</td>\n",
       "    </tr>\n",
       "    <tr>\n",
       "      <th>max</th>\n",
       "      <td>0.912000</td>\n",
       "      <td>1.000000</td>\n",
       "      <td>0.910000</td>\n",
       "      <td>0.992900</td>\n",
       "    </tr>\n",
       "  </tbody>\n",
       "</table>\n",
       "</div>"
      ],
      "text/plain": [
       "                neg           neu           pos      compound\n",
       "count  67038.000000  67038.000000  67038.000000  67038.000000\n",
       "mean       0.056502      0.799628      0.143869      0.223944\n",
       "std        0.091035      0.145528      0.138426      0.488299\n",
       "min        0.000000      0.088000      0.000000     -0.987100\n",
       "25%        0.000000      0.702000      0.000000      0.000000\n",
       "50%        0.000000      0.804000      0.126000      0.296000\n",
       "75%        0.100000      0.902000      0.230000      0.648600\n",
       "max        0.912000      1.000000      0.910000      0.992900"
      ]
     },
     "execution_count": 33,
     "metadata": {},
     "output_type": "execute_result"
    }
   ],
   "source": [
    "sentiments.describe()"
   ]
  },
  {
   "cell_type": "markdown",
   "metadata": {},
   "source": [
    "Interestingly the compound mean is slightly positive leaning, meaning that the bulk of our dataset are tweets classified as slightly positive by VADER. The maximum and minimum tweets are displayed in the above cells, but those are clearly outliers. Just to get a clearer visualization of the compound score, let's plot a histogram of the compound column alone:"
   ]
  },
  {
   "cell_type": "code",
   "execution_count": 34,
   "metadata": {
    "scrolled": false
   },
   "outputs": [
    {
     "data": {
      "text/plain": [
       "<AxesSubplot:xlabel='compound', ylabel='Density'>"
      ]
     },
     "execution_count": 34,
     "metadata": {},
     "output_type": "execute_result"
    },
    {
     "data": {
      "image/png": "[encoded data removed]",
      "text/plain": [
       "<Figure size 1224x504 with 1 Axes>"
      ]
     },
     "metadata": {
      "image/png": {
       "height": 433,
       "width": 996
      },
      "needs_background": "light"
     },
     "output_type": "display_data"
    }
   ],
   "source": [
    "sns.histplot(x=sentiments[\"compound\"],stat=\"density\")"
   ]
  },
  {
   "cell_type": "markdown",
   "metadata": {},
   "source": [
    "So the vast majority of our dataset registers as completely neutral, with more observations classified as positive than negative. While this information alone reveals that political tweets are not as negative as we first thought, we still want to find the relationship, if there is any, between sentiment and political party, and perhaps on top of that, engagement. So in the following cell, we combine our sentiment dataframe with our party affiliation and raw tweets dataframe:"
   ]
  },
  {
   "cell_type": "code",
   "execution_count": 35,
   "metadata": {},
   "outputs": [],
   "source": [
    "# Merges the two dataframes together using the 'text' and 'sentence' features while dropping the 'sentence' feature\n",
    "df = pd.merge(demsreps, sentiments, left_on='text', right_on='sentence').drop(columns=['sentence'])"
   ]
  },
  {
   "cell_type": "code",
   "execution_count": 36,
   "metadata": {},
   "outputs": [
    {
     "data": {
      "text/html": [
       "<div>\n",
       "<style scoped>\n",
       "    .dataframe tbody tr th:only-of-type {\n",
       "        vertical-align: middle;\n",
       "    }\n",
       "\n",
       "    .dataframe tbody tr th {\n",
       "        vertical-align: top;\n",
       "    }\n",
       "\n",
       "    .dataframe thead th {\n",
       "        text-align: right;\n",
       "    }\n",
       "</style>\n",
       "<table border=\"1\" class=\"dataframe\">\n",
       "  <thead>\n",
       "    <tr style=\"text-align: right;\">\n",
       "      <th></th>\n",
       "      <th>text</th>\n",
       "      <th>party_name</th>\n",
       "      <th>created_at</th>\n",
       "      <th>hashtags</th>\n",
       "      <th>retweet_count</th>\n",
       "      <th>reply_count</th>\n",
       "      <th>like_count</th>\n",
       "      <th>quote_count</th>\n",
       "      <th>logged_retweet_count</th>\n",
       "      <th>logged_reply_count</th>\n",
       "      <th>logged_like_count</th>\n",
       "      <th>logged_quote_count</th>\n",
       "      <th>neg</th>\n",
       "      <th>neu</th>\n",
       "      <th>pos</th>\n",
       "      <th>compound</th>\n",
       "    </tr>\n",
       "  </thead>\n",
       "  <tbody>\n",
       "    <tr>\n",
       "      <th>0</th>\n",
       "      <td>Garrett was 1 of just a handful of fringe extr...</td>\n",
       "      <td>Democrat</td>\n",
       "      <td>2016-09-13 16:15:12+00:00</td>\n",
       "      <td>['VAWA']</td>\n",
       "      <td>4</td>\n",
       "      <td>0</td>\n",
       "      <td>5</td>\n",
       "      <td>0</td>\n",
       "      <td>0.69897</td>\n",
       "      <td>0.000000</td>\n",
       "      <td>0.778151</td>\n",
       "      <td>0.0</td>\n",
       "      <td>0.125</td>\n",
       "      <td>0.875</td>\n",
       "      <td>0.000</td>\n",
       "      <td>-0.2500</td>\n",
       "    </tr>\n",
       "    <tr>\n",
       "      <th>1</th>\n",
       "      <td>\"No one fights harder than Josh to bring back ...</td>\n",
       "      <td>Democrat</td>\n",
       "      <td>2018-06-19 14:41:25+00:00</td>\n",
       "      <td>[]</td>\n",
       "      <td>0</td>\n",
       "      <td>1</td>\n",
       "      <td>2</td>\n",
       "      <td>0</td>\n",
       "      <td>0.00000</td>\n",
       "      <td>0.301030</td>\n",
       "      <td>0.477121</td>\n",
       "      <td>0.0</td>\n",
       "      <td>0.143</td>\n",
       "      <td>0.729</td>\n",
       "      <td>0.128</td>\n",
       "      <td>-0.1280</td>\n",
       "    </tr>\n",
       "    <tr>\n",
       "      <th>2</th>\n",
       "      <td>\"Two years in Washington is not much time, yet...</td>\n",
       "      <td>Democrat</td>\n",
       "      <td>2018-11-01 23:20:35+00:00</td>\n",
       "      <td>[]</td>\n",
       "      <td>7</td>\n",
       "      <td>0</td>\n",
       "      <td>20</td>\n",
       "      <td>0</td>\n",
       "      <td>0.90309</td>\n",
       "      <td>0.000000</td>\n",
       "      <td>1.322219</td>\n",
       "      <td>0.0</td>\n",
       "      <td>0.043</td>\n",
       "      <td>0.911</td>\n",
       "      <td>0.047</td>\n",
       "      <td>0.0516</td>\n",
       "    </tr>\n",
       "    <tr>\n",
       "      <th>3</th>\n",
       "      <td>TODAY'S THE DAY! Stopped by the Hackensack Tra...</td>\n",
       "      <td>Democrat</td>\n",
       "      <td>2018-11-06 16:20:00+00:00</td>\n",
       "      <td>['ElectionDay']</td>\n",
       "      <td>0</td>\n",
       "      <td>2</td>\n",
       "      <td>11</td>\n",
       "      <td>0</td>\n",
       "      <td>0.00000</td>\n",
       "      <td>0.477121</td>\n",
       "      <td>1.079181</td>\n",
       "      <td>0.0</td>\n",
       "      <td>0.074</td>\n",
       "      <td>0.817</td>\n",
       "      <td>0.109</td>\n",
       "      <td>0.2244</td>\n",
       "    </tr>\n",
       "    <tr>\n",
       "      <th>4</th>\n",
       "      <td>Bergen Congressman Reacts To 'Horrific' Shooti...</td>\n",
       "      <td>Democrat</td>\n",
       "      <td>2017-06-15 19:26:50+00:00</td>\n",
       "      <td>[]</td>\n",
       "      <td>1</td>\n",
       "      <td>0</td>\n",
       "      <td>3</td>\n",
       "      <td>0</td>\n",
       "      <td>0.30103</td>\n",
       "      <td>0.000000</td>\n",
       "      <td>0.602060</td>\n",
       "      <td>0.0</td>\n",
       "      <td>0.231</td>\n",
       "      <td>0.769</td>\n",
       "      <td>0.000</td>\n",
       "      <td>-0.4019</td>\n",
       "    </tr>\n",
       "  </tbody>\n",
       "</table>\n",
       "</div>"
      ],
      "text/plain": [
       "                                                text party_name  \\\n",
       "0  Garrett was 1 of just a handful of fringe extr...   Democrat   \n",
       "1  \"No one fights harder than Josh to bring back ...   Democrat   \n",
       "2  \"Two years in Washington is not much time, yet...   Democrat   \n",
       "3  TODAY'S THE DAY! Stopped by the Hackensack Tra...   Democrat   \n",
       "4  Bergen Congressman Reacts To 'Horrific' Shooti...   Democrat   \n",
       "\n",
       "                 created_at         hashtags  retweet_count  reply_count  \\\n",
       "0 2016-09-13 16:15:12+00:00         ['VAWA']              4            0   \n",
       "1 2018-06-19 14:41:25+00:00               []              0            1   \n",
       "2 2018-11-01 23:20:35+00:00               []              7            0   \n",
       "3 2018-11-06 16:20:00+00:00  ['ElectionDay']              0            2   \n",
       "4 2017-06-15 19:26:50+00:00               []              1            0   \n",
       "\n",
       "   like_count  quote_count  logged_retweet_count  logged_reply_count  \\\n",
       "0           5            0               0.69897            0.000000   \n",
       "1           2            0               0.00000            0.301030   \n",
       "2          20            0               0.90309            0.000000   \n",
       "3          11            0               0.00000            0.477121   \n",
       "4           3            0               0.30103            0.000000   \n",
       "\n",
       "   logged_like_count  logged_quote_count    neg    neu    pos  compound  \n",
       "0           0.778151                 0.0  0.125  0.875  0.000   -0.2500  \n",
       "1           0.477121                 0.0  0.143  0.729  0.128   -0.1280  \n",
       "2           1.322219                 0.0  0.043  0.911  0.047    0.0516  \n",
       "3           1.079181                 0.0  0.074  0.817  0.109    0.2244  \n",
       "4           0.602060                 0.0  0.231  0.769  0.000   -0.4019  "
      ]
     },
     "execution_count": 36,
     "metadata": {},
     "output_type": "execute_result"
    }
   ],
   "source": [
    "df.head()"
   ]
  },
  {
   "cell_type": "markdown",
   "metadata": {},
   "source": [
    "So now that the two datasets above are combined into one let's not beat around the bush any longer; which party is currently more negative according to our sample?"
   ]
  },
  {
   "cell_type": "code",
   "execution_count": 37,
   "metadata": {},
   "outputs": [
    {
     "data": {
      "text/plain": [
       "<AxesSubplot:xlabel='party_name'>"
      ]
     },
     "execution_count": 37,
     "metadata": {},
     "output_type": "execute_result"
    },
    {
     "data": {
      "image/png": "[encoded data removed]",
      "text/plain": [
       "<Figure size 1224x504 with 1 Axes>"
      ]
     },
     "metadata": {
      "image/png": {
       "height": 433,
       "width": 1001
      },
      "needs_background": "light"
     },
     "output_type": "display_data"
    }
   ],
   "source": [
    "to_plot = df.groupby('party_name')['compound'].mean()\n",
    "sns.barplot(x=to_plot.index, y=to_plot.values, palette=['darkblue', 'darkred'])"
   ]
  },
  {
   "cell_type": "markdown",
   "metadata": {},
   "source": [
    "It seems that our hypothesis may be incorrect; in fact if VADER sentiment analysis is to be believed, our current dataset shows us that Republicans are in fact more positive on average in their tweets than Democrats. Let's take a look at only negative scores just to make sure this makes sense:"
   ]
  },
  {
   "cell_type": "code",
   "execution_count": 38,
   "metadata": {},
   "outputs": [
    {
     "data": {
      "text/plain": [
       "<AxesSubplot:xlabel='party_name'>"
      ]
     },
     "execution_count": 38,
     "metadata": {},
     "output_type": "execute_result"
    },
    {
     "data": {
      "image/png": "[encoded data removed]",
      "text/plain": [
       "<Figure size 1224x504 with 1 Axes>"
      ]
     },
     "metadata": {
      "image/png": {
       "height": 433,
       "width": 1001
      },
      "needs_background": "light"
     },
     "output_type": "display_data"
    }
   ],
   "source": [
    "to_plot = df.groupby('party_name')['neg'].mean()\n",
    "sns.barplot(x=to_plot.index, y=to_plot.values, palette=['darkblue', 'darkred'])"
   ]
  },
  {
   "cell_type": "markdown",
   "metadata": {},
   "source": [
    "And again it is made clear that Republicans are less negative than Democrats. This makes sense once you consider that the compound score is calculated as the positive score + the negative score + the neutral score. There is yet another visualization we can create to check if perhaps Democrats just have one or two extremely negative tweets that are pulling them down but Republicans have more negative tweets overall. That visualization is a hued histogram as follows:"
   ]
  },
  {
   "cell_type": "code",
   "execution_count": 39,
   "metadata": {},
   "outputs": [
    {
     "data": {
      "text/plain": [
       "<AxesSubplot:xlabel='compound', ylabel='Density'>"
      ]
     },
     "execution_count": 39,
     "metadata": {},
     "output_type": "execute_result"
    },
    {
     "data": {
      "image/png": "[encoded data removed]",
      "text/plain": [
       "<Figure size 1224x504 with 1 Axes>"
      ]
     },
     "metadata": {
      "image/png": {
       "height": 433,
       "width": 1010
      },
      "needs_background": "light"
     },
     "output_type": "display_data"
    }
   ],
   "source": [
    "sns.histplot(data=df, x=\"compound\", hue=\"party_name\", palette=['darkblue', 'darkred'], bins=10, alpha=0.2, stat=\"density\")"
   ]
  },
  {
   "cell_type": "markdown",
   "metadata": {},
   "source": [
    "So interestingly it appears that both of the parties share a similar distribution in terms of sentiment. So there is likely no statistically interesting reasoning for Democrats having more negative tweets than Republicans. They simply do, and thus our original hypothesis may be incorrect (although an actual hypothesis test will be conducted in the analysis section to ensure that this is indeed the case). \n",
    "\n",
    "This analysis will be done under the central question of this report: \n",
    "**Does one US political party have a tendency to disproportionately use more negative sentiment on Twitter than the other?**\n",
    "\n",
    "\n",
    "But now that we have an understanding of which party, surprisingly, has more positive tweets on average, let us see if there is a relationship between sentiment and engagement. This is because a part of our question deals with understanding why a party is being more expressive, if we can reasonably claim that they are with a hypothesis test. \n",
    "\n",
    "In the below cell, we plot the relationship between sentiment and engagement. Note that because we want to see a relationship with engagement and sentiment in our data and that most of our data has a compound score of 0, we will remove all of those tweets. This modifies what we are investigating to only looking at tweets that contains some level of sentiment. What we expect to see is something resembling a line with positive slope. This is because we expect tweets classified as high in sentiment to have more engagement:"
   ]
  },
  {
   "cell_type": "code",
   "execution_count": 40,
   "metadata": {},
   "outputs": [
    {
     "data": {
      "text/plain": [
       "<AxesSubplot:xlabel='abs_compound', ylabel='like_count'>"
      ]
     },
     "execution_count": 40,
     "metadata": {},
     "output_type": "execute_result"
    },
    {
     "data": {
      "image/png": "[encoded data removed]",
      "text/plain": [
       "<Figure size 1224x504 with 1 Axes>"
      ]
     },
     "metadata": {
      "image/png": {
       "height": 434,
       "width": 1042
      },
      "needs_background": "light"
     },
     "output_type": "display_data"
    }
   ],
   "source": [
    "sent_data = df.copy()\n",
    "sent_data[\"abs_compound\"] = np.abs(df['compound'])\n",
    "sent_data = sent_data[sent_data[\"abs_compound\"] > 0]\n",
    "sns.scatterplot(data=sent_data, x=\"abs_compound\", y='like_count')"
   ]
  },
  {
   "cell_type": "markdown",
   "metadata": {},
   "source": [
    "Just from looking at the visualization it doesn't appear as though there is a strong positive linear relationship between the compound sentiment of a tweet and the number of likes it has. To investigate this further, we can perform a hypothesis test using the Spearman rank-order correlation coefficient.\n",
    "\n",
    "This analysis will be done under the question: \n",
    "**Is there a relationship between the absolute sentiment of a tweet that contains non-zero sentiment (that is, how positive or negative VADER thought a tweet was) and the amount of engagement that tweet recieved (using like, retweet, reply, and quote tweet counts)?**"
   ]
  },
  {
   "cell_type": "markdown",
   "metadata": {},
   "source": [
    "Next we want to try to investigate the correlation between sentiment and controversial topics. However, outside of tokenization, does Twitter have some way for us to glean insight into the topic of a tweet? The answer is yes: Hashtags. So what follows is an analysis on that front. In the below cell we generate a cleaned and tokenized list of hashtags, which we then value count to determine what the most popular topics in our dataset are:"
   ]
  },
  {
   "cell_type": "code",
   "execution_count": 41,
   "metadata": {},
   "outputs": [],
   "source": [
    "hashes = (df[df['hashtags'] != '[]']['hashtags'] # Don't include tweets that have no hashtags\n",
    " .str.replace('[', '') \n",
    " .str.replace(']', '') # Get rid of list brackets\n",
    " .str.split(',', expand=True) # Split and expand the resulting string before stacking all hashtags, and then canonizing\n",
    " .stack().str.strip().str.lower()).value_counts()"
   ]
  },
  {
   "cell_type": "markdown",
   "metadata": {},
   "source": [
    "Below is a list of the 10 most popular hashtags in our dataset:"
   ]
  },
  {
   "cell_type": "code",
   "execution_count": 42,
   "metadata": {},
   "outputs": [
    {
     "data": {
      "text/plain": [
       "'covid19'         378\n",
       "'sotu'            331\n",
       "'obamacare'       325\n",
       "'aca'             264\n",
       "'trumpcare'       241\n",
       "'tcot'            230\n",
       "'coronavirus'     216\n",
       "'taxreform'       196\n",
       "'goptaxscam'      194\n",
       "'forthepeople'    181\n",
       "'scotus'          168\n",
       "dtype: int64"
      ]
     },
     "execution_count": 42,
     "metadata": {},
     "output_type": "execute_result"
    }
   ],
   "source": [
    "top10 = hashes[:11]\n",
    "top10"
   ]
  },
  {
   "cell_type": "markdown",
   "metadata": {},
   "source": [
    "So every last one of these is a highly political topic in the United States. As such it would make sense for there to be a lot of sentiment surrounding these topics, and perhaps that sentiment can even be divided by party. In the following cell, we begin this analysis by getting all tweets with a hashtag related to COVID-19; the most popular hashtag in our dataset, and calculating their average absolute sentiment; we expect this number to be high:"
   ]
  },
  {
   "cell_type": "code",
   "execution_count": 43,
   "metadata": {},
   "outputs": [
    {
     "data": {
      "text/plain": [
       "0.45290677200902874"
      ]
     },
     "execution_count": 43,
     "metadata": {},
     "output_type": "execute_result"
    }
   ],
   "source": [
    "np.abs(df[df['hashtags'].str.lower().str.contains('covid')]['compound']).mean()"
   ]
  },
  {
   "cell_type": "markdown",
   "metadata": {},
   "source": [
    "And indeed, this number is higher than the overall mean of compound sentiment for all tweets in our dataset. Thus we can move on to investigating how the sentiment breaks down by party:"
   ]
  },
  {
   "cell_type": "code",
   "execution_count": 44,
   "metadata": {},
   "outputs": [
    {
     "data": {
      "text/plain": [
       "<AxesSubplot:xlabel='party_name'>"
      ]
     },
     "execution_count": 44,
     "metadata": {},
     "output_type": "execute_result"
    },
    {
     "data": {
      "image/png": "[encoded data removed]",
      "text/plain": [
       "<Figure size 1224x504 with 1 Axes>"
      ]
     },
     "metadata": {
      "image/png": {
       "height": 433,
       "width": 1001
      },
      "needs_background": "light"
     },
     "output_type": "display_data"
    }
   ],
   "source": [
    "to_plot = df[df['hashtags'].str.lower().str.contains('covid')].groupby('party_name')['compound'].mean()\n",
    "sns.barplot(x=to_plot.index, y=to_plot.values, palette=['darkblue', 'darkred'])"
   ]
  },
  {
   "cell_type": "markdown",
   "metadata": {},
   "source": [
    "And in this case Democrats appear to, again, be more negative than Republicans but this time with respect to COVID-19. This line of investigation reveals that it might be a good idea to do some kind of investigation into the various topics in our dataset and see if there are clear differences in sentiment for the two major US political parties by topic. In other words it might give us insight into what motivates the difference in sentiment, if there is one.\n",
    "\n",
    "This analysis will be done under the question: \n",
    "**Does the topic of a tweet change how disproportionately each party uses negative sentiment in their tweets?**"
   ]
  },
  {
   "cell_type": "markdown",
   "metadata": {},
   "source": [
    "## Inferential Statistics and Hypothesis Testing"
   ]
  },
  {
   "cell_type": "markdown",
   "metadata": {},
   "source": [
    "From our EDA we came up with three questions we can test using inferential analysis or hypothesis testing techniques:\n",
    "1. Does one US political party have a tendency to disproportionately use more negative sentiment on Twitter than the other?\n",
    "1. Is there a relationship between the absolute sentiment of a tweet that contains non-zero sentiment (that is, how positive or negative VADER thought a tweet was) and the amount of engagement that tweet recieved (using like, retweet, reply, and quote tweet counts)?\n",
    "1. Does the topic of a tweet change how disproportionately each party uses negative sentiment in their tweets?"
   ]
  },
  {
   "cell_type": "markdown",
   "metadata": {},
   "source": [
    "### Question 1: Does one US political party have a tendency to disproportionately use more negative sentiment on Twitter than the other?\n",
    "\n",
    "This hypothesis test seems rather simple, but before we can actually get to work on determining if one party uses more negative sentiment on Twitter than the other, we need to first determine our test statistic. For this case, the test statistic we're choosing to use is the difference in proportion of negative tweets between parties. This statistic is calculated as follows:\n",
    "$$\n",
    "p_{\\text{diff}} = \\frac{\\text{# of Democratic tweets tagged as negative}}{\\text{Total # of Democratic tweets}} - \\frac{\\text{# of Republican tweets tagged as negative}}{\\text{Total # of Republican tweets}}\n",
    "$$\n",
    "\n",
    "If this test statistic is positive, then Democrats have a higher proportion of negative tweets than Republicans. If this test statistic is negative, then Republicans have a higher proportion of negative tweets than Democrats. If this test statistic is 0, or close to 0, then Republicans and Democrats have an equal proportion of negative tweets, and thus neither party disproportionately tweets with negative sentiment. The reason we're using a signed test statistic is because it will not only help us determine if there is a difference in proportion of negative tweets, but also which party has a higher proportion of negative tweets. This test statistic is implemented below:"
   ]
  },
  {
   "cell_type": "code",
   "execution_count": 45,
   "metadata": {},
   "outputs": [],
   "source": [
    "def diff_in_prop(df):\n",
    "    dems = df[df['party_name'].str.contains('Democrat')]\n",
    "    reps = df[df['party_name'].str.contains('Republican')]\n",
    "    dem_prop = (dems['compound'] < 0).sum()/dems.shape[0]\n",
    "    reps_prop = (reps['compound'] < 0).sum()/reps.shape[0]\n",
    "    #Because Republican is on the right side we expect the score to be negative\n",
    "    return (\n",
    "        dem_prop - reps_prop\n",
    "    )\n",
    "    "
   ]
  },
  {
   "cell_type": "markdown",
   "metadata": {},
   "source": [
    "A permutation test is a non-parametric manner of hypothesis testing that does not require normality as an assumption. All it requires is that the distribution of data is similar between the two groups we run it on, and in this case it was proven in EDA that the distributions are rather similar for sentiment. By repeatedly calculating the test statistic on randomly shuffled group labels, we determine if both groups were drawn from the same population or if there is actually a statistical difference between both groups. Below we define a permutation test function that we use to run all of the permutation tests in this and the third section:"
   ]
  },
  {
   "cell_type": "code",
   "execution_count": 46,
   "metadata": {},
   "outputs": [],
   "source": [
    "def permutation_test(df, n):\n",
    "    statistics = np.array([])\n",
    "\n",
    "    for i in np.arange(n):\n",
    "        # 1. shuffle the versions\n",
    "        shuffled = df.assign(\n",
    "            party_name=np.random.permutation(\n",
    "                df.get(\"party_name\")\n",
    "            )\n",
    "        )\n",
    "        # 2. compute the test statistic\n",
    "        statistic = diff_in_prop(shuffled)\n",
    "        # 3. save the result\n",
    "        statistics = np.append(statistics, statistic)\n",
    "\n",
    "        \n",
    "    # 4. get the obeserved test statistic\n",
    "    observed = diff_in_prop(df)\n",
    "    # 5. calculate the p_value\n",
    "    p_value = np.count_nonzero(statistics > observed) / n\n",
    "    \n",
    "    return p_value, statistics, observed"
   ]
  },
  {
   "cell_type": "markdown",
   "metadata": {},
   "source": [
    "In the cell below, we run a hypothesis test to determine whether the difference in proportions of negative tweets across parties is statistically significant. We will now state our null and alternative hypotheses:\n",
    "$$\n",
    "H_0: \\text{The difference in proportions is statistically insignificant.} \n",
    "$$\n",
    "That is to say, both parties are drawn from the same population and have the same tendency to tweet negatively.\n",
    "\n",
    "\n",
    "$$\n",
    "H_A: \\text{The difference in proportions is statistically significant.}\n",
    "$$\n",
    "That is to say, both parties are drawn from different populations and one party has a tendency to tweet more negatively than the other party.\n",
    "\n",
    "We will run this test with a significance level or $\\alpha$ of 0.05. In other words if our p-value is greater than or equal to our $\\alpha$ we will accept the null hypothesis; that there is no significant difference. If the p-value is smaller than our $\\alpha$, we will reject the null hypothesis and consider the alternative; that there is a statistically significant difference."
   ]
  },
  {
   "cell_type": "code",
   "execution_count": 47,
   "metadata": {},
   "outputs": [],
   "source": [
    "p_value, statistics, obs = permutation_test(df[[\"party_name\", \"compound\"]], 5000)"
   ]
  },
  {
   "cell_type": "markdown",
   "metadata": {},
   "source": [
    "Before we move on to visualizing this result, let's see what our p-value and observed test statistic are:"
   ]
  },
  {
   "cell_type": "code",
   "execution_count": 48,
   "metadata": {},
   "outputs": [
    {
     "data": {
      "text/plain": [
       "(0.06666778991569766, 0.0)"
      ]
     },
     "execution_count": 48,
     "metadata": {},
     "output_type": "execute_result"
    }
   ],
   "source": [
    "obs, p_value"
   ]
  },
  {
   "cell_type": "markdown",
   "metadata": {},
   "source": [
    "So the observed difference in proportion of negative tweets is approximately 7%, and the p-value tells us that we can be certain this difference is real or tangible; in other words it almost definitely exists. Let's get a more visual representation of this:"
   ]
  },
  {
   "cell_type": "code",
   "execution_count": 49,
   "metadata": {},
   "outputs": [
    {
     "data": {
      "text/plain": [
       "[<matplotlib.lines.Line2D at 0x7fa9101933d0>]"
      ]
     },
     "execution_count": 49,
     "metadata": {},
     "output_type": "execute_result"
    },
    {
     "data": {
      "image/png": "[encoded data removed]",
      "text/plain": [
       "<Figure size 1224x504 with 1 Axes>"
      ]
     },
     "metadata": {
      "image/png": {
       "height": 415,
       "width": 1006
      },
      "needs_background": "light"
     },
     "output_type": "display_data"
    }
   ],
   "source": [
    "plt.hist(statistics, density=True)\n",
    "plt.plot([obs, obs], [0, 120], color='red')"
   ]
  },
  {
   "cell_type": "markdown",
   "metadata": {},
   "source": [
    "The simulated values of the test statistic are distributed in blue, while the location of the observed test statistic is shown as a red line. What the histogram above tells us is that if the two groups, Democrats and Republicans, were drawn from the same population, the observed value would sit somewhere in the blue. However they are clearly not drawn from the same population and thus our observed value is vastly different. Of course this could be due to unfortunate sampling or some other interesting collection rationale, but in the context of our collection mechanism this difference exists with a confidence interval of 95%, which is pretty precise. So there is definitely something real here, and thus we conclude that we reject the null hypothesis and begin to consider the alternative hypothesis. \n",
    "\n",
    "Thus one US political party does have a tendency to disproportionately tweet with more negative sentiment than the other; Democrats have a disproportionate tendency to tweet more negatively than Republicans as determined by VADER and the above hypothesis test. "
   ]
  },
  {
   "cell_type": "markdown",
   "metadata": {},
   "source": [
    "### Question 2: Analysing the relationship between absolute sentiment of a tweet and the amount of engagement\n",
    "\n",
    "Because we want to analyze this relationship, the first thing we will do is remove all tweets with a compound sentiment score of 0 as these tweets show no sentiment and have high variance in the engagement metrics thus making those data points not too useful. Furthermore, the VADER sentiment analyzer model could have given a sentiment score of 0 if the language of the tweet was seen as fully objective by the VADER which can happen if VADER does not recognize the words in the tweet (which is possible given that the VADER model was made in 2014)."
   ]
  },
  {
   "cell_type": "code",
   "execution_count": 50,
   "metadata": {},
   "outputs": [
    {
     "data": {
      "text/html": [
       "<div>\n",
       "<style scoped>\n",
       "    .dataframe tbody tr th:only-of-type {\n",
       "        vertical-align: middle;\n",
       "    }\n",
       "\n",
       "    .dataframe tbody tr th {\n",
       "        vertical-align: top;\n",
       "    }\n",
       "\n",
       "    .dataframe thead th {\n",
       "        text-align: right;\n",
       "    }\n",
       "</style>\n",
       "<table border=\"1\" class=\"dataframe\">\n",
       "  <thead>\n",
       "    <tr style=\"text-align: right;\">\n",
       "      <th></th>\n",
       "      <th>retweet_count</th>\n",
       "      <th>reply_count</th>\n",
       "      <th>like_count</th>\n",
       "      <th>quote_count</th>\n",
       "      <th>compound</th>\n",
       "      <th>logged_retweet_count</th>\n",
       "      <th>logged_reply_count</th>\n",
       "      <th>logged_like_count</th>\n",
       "      <th>logged_quote_count</th>\n",
       "      <th>abs_compound</th>\n",
       "    </tr>\n",
       "  </thead>\n",
       "  <tbody>\n",
       "    <tr>\n",
       "      <th>0</th>\n",
       "      <td>4</td>\n",
       "      <td>0</td>\n",
       "      <td>5</td>\n",
       "      <td>0</td>\n",
       "      <td>-0.2500</td>\n",
       "      <td>0.69897</td>\n",
       "      <td>0.000000</td>\n",
       "      <td>0.778151</td>\n",
       "      <td>0.0</td>\n",
       "      <td>0.2500</td>\n",
       "    </tr>\n",
       "    <tr>\n",
       "      <th>1</th>\n",
       "      <td>0</td>\n",
       "      <td>1</td>\n",
       "      <td>2</td>\n",
       "      <td>0</td>\n",
       "      <td>-0.1280</td>\n",
       "      <td>0.00000</td>\n",
       "      <td>0.301030</td>\n",
       "      <td>0.477121</td>\n",
       "      <td>0.0</td>\n",
       "      <td>0.1280</td>\n",
       "    </tr>\n",
       "    <tr>\n",
       "      <th>2</th>\n",
       "      <td>7</td>\n",
       "      <td>0</td>\n",
       "      <td>20</td>\n",
       "      <td>0</td>\n",
       "      <td>0.0516</td>\n",
       "      <td>0.90309</td>\n",
       "      <td>0.000000</td>\n",
       "      <td>1.322219</td>\n",
       "      <td>0.0</td>\n",
       "      <td>0.0516</td>\n",
       "    </tr>\n",
       "    <tr>\n",
       "      <th>3</th>\n",
       "      <td>0</td>\n",
       "      <td>2</td>\n",
       "      <td>11</td>\n",
       "      <td>0</td>\n",
       "      <td>0.2244</td>\n",
       "      <td>0.00000</td>\n",
       "      <td>0.477121</td>\n",
       "      <td>1.079181</td>\n",
       "      <td>0.0</td>\n",
       "      <td>0.2244</td>\n",
       "    </tr>\n",
       "    <tr>\n",
       "      <th>4</th>\n",
       "      <td>1</td>\n",
       "      <td>0</td>\n",
       "      <td>3</td>\n",
       "      <td>0</td>\n",
       "      <td>-0.4019</td>\n",
       "      <td>0.30103</td>\n",
       "      <td>0.000000</td>\n",
       "      <td>0.602060</td>\n",
       "      <td>0.0</td>\n",
       "      <td>0.4019</td>\n",
       "    </tr>\n",
       "  </tbody>\n",
       "</table>\n",
       "</div>"
      ],
      "text/plain": [
       "   retweet_count  reply_count  like_count  quote_count  compound  \\\n",
       "0              4            0           5            0   -0.2500   \n",
       "1              0            1           2            0   -0.1280   \n",
       "2              7            0          20            0    0.0516   \n",
       "3              0            2          11            0    0.2244   \n",
       "4              1            0           3            0   -0.4019   \n",
       "\n",
       "   logged_retweet_count  logged_reply_count  logged_like_count  \\\n",
       "0               0.69897            0.000000           0.778151   \n",
       "1               0.00000            0.301030           0.477121   \n",
       "2               0.90309            0.000000           1.322219   \n",
       "3               0.00000            0.477121           1.079181   \n",
       "4               0.30103            0.000000           0.602060   \n",
       "\n",
       "   logged_quote_count  abs_compound  \n",
       "0                 0.0        0.2500  \n",
       "1                 0.0        0.1280  \n",
       "2                 0.0        0.0516  \n",
       "3                 0.0        0.2244  \n",
       "4                 0.0        0.4019  "
      ]
     },
     "execution_count": 50,
     "metadata": {},
     "output_type": "execute_result"
    }
   ],
   "source": [
    "sent_engage = df[[\"retweet_count\",\"reply_count\",\"like_count\",\"quote_count\",\"compound\",\"logged_retweet_count\",\"logged_reply_count\",\"logged_like_count\",\"logged_quote_count\"]]\n",
    "sent_engage[\"abs_compound\"] = sent_engage[\"compound\"].abs()\n",
    "sent_engage = sent_engage[sent_engage[\"abs_compound\"] > 0]\n",
    "sent_engage.head()"
   ]
  },
  {
   "cell_type": "markdown",
   "metadata": {},
   "source": [
    "In order to test the hypothesis that absolute sentiment (or how positive/negative tweet is) has an effect on engagement, we can perform the Spearman rank-order correlation coefficient test using `abs_compound` as one variable and the others being the engagement metrics (`retweet_count`, `reply_count`, `like_count`, and `quote_count`) and using the found coefficient $r$ we can test the following hypotheses:\n",
    "\n",
    "$H_0$: There is no relationship between absolute sentiment and an engagement metric ($r = 0$)\n",
    "\n",
    "$H_A$: There is a relationship between absolute sentiment and an engagement metric ($r \\ne 0$)\n",
    "\n",
    "We will be using the standard confidence level of $\\alpha = .05$ in these tests"
   ]
  },
  {
   "cell_type": "markdown",
   "metadata": {},
   "source": [
    "NOTE: Because we are using the Spearman rank-order correlation coefficient test, it does not matter if we use the logged features as they will produce the same ranks when calculating leading to the same results.\n",
    "\n",
    "Scipy has a built in test for Spearman rank-order correlation coefficient called `spearmanr` which will be used to determine our p-values"
   ]
  },
  {
   "cell_type": "code",
   "execution_count": 51,
   "metadata": {
    "scrolled": true
   },
   "outputs": [
    {
     "data": {
      "text/plain": [
       "SpearmanrResult(correlation=0.10936061062550163, pvalue=3.8085230907323986e-141)"
      ]
     },
     "execution_count": 51,
     "metadata": {},
     "output_type": "execute_result"
    }
   ],
   "source": [
    "stats.spearmanr(sent_engage[\"abs_compound\"],sent_engage[\"like_count\"])"
   ]
  },
  {
   "cell_type": "code",
   "execution_count": 52,
   "metadata": {},
   "outputs": [
    {
     "data": {
      "text/plain": [
       "SpearmanrResult(correlation=0.04057810329136611, pvalue=7.924753407162689e-21)"
      ]
     },
     "execution_count": 52,
     "metadata": {},
     "output_type": "execute_result"
    }
   ],
   "source": [
    "stats.spearmanr(sent_engage[\"abs_compound\"],sent_engage[\"reply_count\"])"
   ]
  },
  {
   "cell_type": "code",
   "execution_count": 53,
   "metadata": {},
   "outputs": [
    {
     "data": {
      "text/plain": [
       "SpearmanrResult(correlation=0.02462947561201938, pvalue=1.3461154160123492e-08)"
      ]
     },
     "execution_count": 53,
     "metadata": {},
     "output_type": "execute_result"
    }
   ],
   "source": [
    "stats.spearmanr(sent_engage[\"abs_compound\"],sent_engage[\"quote_count\"])"
   ]
  },
  {
   "cell_type": "code",
   "execution_count": 54,
   "metadata": {
    "scrolled": true
   },
   "outputs": [
    {
     "data": {
      "text/plain": [
       "SpearmanrResult(correlation=-0.06841704591642664, pvalue=3.3888256503564856e-56)"
      ]
     },
     "execution_count": 54,
     "metadata": {},
     "output_type": "execute_result"
    }
   ],
   "source": [
    "stats.spearmanr(sent_engage[\"abs_compound\"],sent_engage[\"retweet_count\"])"
   ]
  },
  {
   "cell_type": "markdown",
   "metadata": {},
   "source": [
    "Notice in all cases that the pvalue is less than .05 which means we reject the null hypothesis meaning that the correlation it found was not due to random chance which suggests that there is relationship between absolute sentiment and the engagement metric. While we could hypothesize conclusions on why these correlations have certain magnitudes, its important to note that using [Quinnipiac University](https://pacificpapermill.com/resources/Journals_and_Chapters/Akoglu_(2018)_Correlation.pdf) correlation coefficient interpretation, the results for all engagement metrics except that for like count is negligible meaning that while there could be a relationship there, the impact is so small that it does not matter in practice. \n",
    "\n",
    "For the weak correlation between the absolute compound score and like count, this is likely due to the fact that while there may be some relationship present, there are other confounding factors that are more important than the sentiment of the tweet that affects the likes count."
   ]
  },
  {
   "cell_type": "markdown",
   "metadata": {},
   "source": [
    "### Question 3: Does the topic of a tweet change how disproportionately each party uses negative sentiment in their tweets?\n",
    "\n",
    "If the observant viewer believes that this question is very similar to the first, they would be correct. It is worded very similarly so that we can repeat the same test statistic and permutation test with only one minor difference: The data we were using consisted of tweets across various different topics, some extremely politicized and some not. What if we only got those tweets that were on the subject of what we consider to be a political topic? For this section we'll be looking at three topics: Coronavirus, Obamacare/Affordable Care Act, and taxes because all three have been debated rather frequently in the political hemisphere in recent times. We begin with coronavirus below:"
   ]
  },
  {
   "cell_type": "code",
   "execution_count": 55,
   "metadata": {},
   "outputs": [],
   "source": [
    "hash_lower = df[\"hashtags\"].str.lower()"
   ]
  },
  {
   "cell_type": "code",
   "execution_count": 56,
   "metadata": {},
   "outputs": [],
   "source": [
    "covid = df[df['hashtags'].str.lower().str.contains('covid19') \n",
    "   + df['hashtags'].str.lower().str.contains('coronavirus')]"
   ]
  },
  {
   "cell_type": "markdown",
   "metadata": {},
   "source": [
    "In the cell below, we run a hypothesis test to determine whether the difference in proportions of negative tweets across parties is statistically significant given the topic of COVID-19. We will now state our null and alternative hypotheses:\n",
    "$$\n",
    "H_0: \\text{The difference in proportions is statistically insignificant.} \n",
    "$$\n",
    "That is to say, both parties are drawn from the same population and have the same tendency to tweet negatively.\n",
    "\n",
    "\n",
    "$$\n",
    "H_A: \\text{The difference in proportions is statistically significant.}\n",
    "$$\n",
    "That is to say, both parties are drawn from different populations and one party has the tendency to tweet more negatively than the other party.\n",
    "\n",
    "We will run this test with a significance level or $\\alpha$ of 0.05."
   ]
  },
  {
   "cell_type": "code",
   "execution_count": 57,
   "metadata": {},
   "outputs": [],
   "source": [
    "p_value, stats, obs = permutation_test(covid[[\"party_name\", \"compound\"]], 5000)"
   ]
  },
  {
   "cell_type": "markdown",
   "metadata": {},
   "source": [
    "Let's see what the p-value and observed test statistic are:"
   ]
  },
  {
   "cell_type": "code",
   "execution_count": 58,
   "metadata": {},
   "outputs": [
    {
     "data": {
      "text/plain": [
       "(0.0188, 0.07440578289634892)"
      ]
     },
     "execution_count": 58,
     "metadata": {},
     "output_type": "execute_result"
    }
   ],
   "source": [
    "p_value, obs"
   ]
  },
  {
   "cell_type": "markdown",
   "metadata": {},
   "source": [
    "So the p-value is lower than our specified alpha, and the observed test statistic is actually more positive than our observed test statistic for tweets on any topic. Although we would have to run another permutation test to see if this difference in observed test stats is significant, it becomes obvious that at least within this topic there is still a disproportionate difference in how negatively each party tweets (as determined by VADER). Again, Democrats seem to tweet more negatively than Republicans which makes sense given the topic of COVID-19. Next up let's visualize this as a histogram in the cell below:"
   ]
  },
  {
   "cell_type": "code",
   "execution_count": 59,
   "metadata": {},
   "outputs": [
    {
     "data": {
      "text/plain": [
       "[<matplotlib.lines.Line2D at 0x7fa912dca880>]"
      ]
     },
     "execution_count": 59,
     "metadata": {},
     "output_type": "execute_result"
    },
    {
     "data": {
      "image/png": "[encoded data removed]",
      "text/plain": [
       "<Figure size 1224x504 with 1 Axes>"
      ]
     },
     "metadata": {
      "image/png": {
       "height": 415,
       "width": 987
      },
      "needs_background": "light"
     },
     "output_type": "display_data"
    }
   ],
   "source": [
    "plt.hist(stats, density=True)\n",
    "plt.plot([obs, obs], [0, 25], color='red')"
   ]
  },
  {
   "cell_type": "markdown",
   "metadata": {},
   "source": [
    "So this value is not completely out of the blue like our calculated test statistic for the entire dataset. However it is still a relatively rare value, at least judging by the simulated test statistics. So, judging by the p-value, we would reject our null hypothesis and begin to consider our alternative hypothesis. That is to say, that there is a statistically significant difference in the proportions of negative tweets given the topic of COVID-19. In other words, Democrats, again, tend to tweet more negative than Republicans but this time regarding COVID-19. "
   ]
  },
  {
   "cell_type": "markdown",
   "metadata": {},
   "source": [
    "The next topic we considered is ObamaCare and the Affordable Care Act. Here we expect to see Republicans being more negative than Democrats. "
   ]
  },
  {
   "cell_type": "code",
   "execution_count": 60,
   "metadata": {},
   "outputs": [],
   "source": [
    "obama = df[hash_lower.str.contains('obamacare') \n",
    "   + hash_lower.str.contains('aca')]"
   ]
  },
  {
   "cell_type": "markdown",
   "metadata": {},
   "source": [
    "In the cell below, we run a hypothesis test to determine whether the difference in proportions of negative tweets across parties is statistically significant given the topic of ObamaCare/ACA. We will now state our null and alternative hypotheses:\n",
    "$$\n",
    "H_0: \\text{The difference in proportions is statistically insignificant.} \n",
    "$$\n",
    "That is to say, both parties are drawn from the same population and have the same tendency to tweet negatively.\n",
    "\n",
    "\n",
    "$$\n",
    "H_A: \\text{The difference in proportions is statistically significant.}\n",
    "$$\n",
    "That is to say, both parties are drawn from different populations and one party has the tendency to tweet more negatively than the other party.\n",
    "\n",
    "We will run this test with a significance level or $\\alpha$ of 0.05."
   ]
  },
  {
   "cell_type": "code",
   "execution_count": 61,
   "metadata": {},
   "outputs": [],
   "source": [
    "p_value, stats, obs = permutation_test(obama[[\"party_name\", \"compound\"]], 5000)"
   ]
  },
  {
   "cell_type": "code",
   "execution_count": 62,
   "metadata": {},
   "outputs": [
    {
     "data": {
      "text/plain": [
       "(0.14139999999999997, -0.03582427536231886)"
      ]
     },
     "execution_count": 62,
     "metadata": {},
     "output_type": "execute_result"
    }
   ],
   "source": [
    "(1 - p_value), obs"
   ]
  },
  {
   "cell_type": "markdown",
   "metadata": {},
   "source": [
    "What is interesting though is that now the observed test statistic is negative which means that more Republican tweets are classified as negative than Democrat tweets when it comes to COVID-19. However this ultimately means very little since this is not a statistically significant value, as the p-value demonstrates. \n",
    "\n",
    "An obvious question the observant viewer may have is why we're displaying 1 - p-value in the cell above. The reason for this is that p-values are designed to determine how many outcomes are more or equally extreme to the outcome we've observed. Since our test statistic comes out negative here, we actually want to find the number of outcomes that are smaller than this, and as such the number of outcomes that lie to the left of the observed value in a histogram. The visualization below will make this more obvious:"
   ]
  },
  {
   "cell_type": "code",
   "execution_count": 63,
   "metadata": {},
   "outputs": [
    {
     "data": {
      "text/plain": [
       "[<matplotlib.lines.Line2D at 0x7fa90f80f400>]"
      ]
     },
     "execution_count": 63,
     "metadata": {},
     "output_type": "execute_result"
    },
    {
     "data": {
      "image/png": "[encoded data removed]",
      "text/plain": [
       "<Figure size 1224x504 with 1 Axes>"
      ]
     },
     "metadata": {
      "image/png": {
       "height": 415,
       "width": 987
      },
      "needs_background": "light"
     },
     "output_type": "display_data"
    }
   ],
   "source": [
    "plt.hist(stats, density=True)\n",
    "plt.plot([obs, obs], [0, 25], color='red')"
   ]
  },
  {
   "cell_type": "markdown",
   "metadata": {},
   "source": [
    "Since our p-value is greater than our $\\alpha$, we would end up being unable to reject the null hypothesis. This difference appears to be nothing statistically important. Thus, at least as far as Obamacare is concerned, there is no significant statistical difference in between proportion of negatively classified tweets of both parties."
   ]
  },
  {
   "cell_type": "markdown",
   "metadata": {},
   "source": [
    "The last topic we consider is tax, and tax reform:"
   ]
  },
  {
   "cell_type": "code",
   "execution_count": 64,
   "metadata": {},
   "outputs": [],
   "source": [
    "tax = df[hash_lower.str.contains('taxreform') \n",
    "   + hash_lower.str.contains('goptaxscam')]"
   ]
  },
  {
   "cell_type": "markdown",
   "metadata": {},
   "source": [
    "In the cell below, we run a hypothesis test to determine whether the difference in proportions of negative tweets across parties is statistically significant given the topic of tax reform. We will now state our null and alternative hypotheses:\n",
    "$$\n",
    "H_0: \\text{The difference in proportions is statistically insignificant.} \n",
    "$$\n",
    "That is to say, both parties are drawn from the same population and have the same tendency to tweet negatively.\n",
    "\n",
    "\n",
    "$$\n",
    "H_A: \\text{The difference in proportions is statistically significant.}\n",
    "$$\n",
    "That is to say, both parties are drawn from different populations and one party has the tendency to tweet more negatively than the other party.\n",
    "\n",
    "We will run this test with a significance level or $\\alpha$ of 0.05."
   ]
  },
  {
   "cell_type": "code",
   "execution_count": 65,
   "metadata": {},
   "outputs": [],
   "source": [
    "p_value, stats, obs = permutation_test(tax[[\"party_name\", \"compound\"]], 5000)"
   ]
  },
  {
   "cell_type": "code",
   "execution_count": 66,
   "metadata": {},
   "outputs": [
    {
     "data": {
      "text/plain": [
       "(0.0, 0.27989076464746776)"
      ]
     },
     "execution_count": 66,
     "metadata": {},
     "output_type": "execute_result"
    }
   ],
   "source": [
    "(p_value), obs"
   ]
  },
  {
   "cell_type": "markdown",
   "metadata": {},
   "source": [
    "And now we arrive at perhaps the most interesting result in this section thus far. The p-value here is 0, and the value of the test statistic is massively positive, which implies that Republicans appear to be significantly more positive than Democrats on the subject of taxes and tax reform. This makes sense considering one of the hashtags we filtered with is \"goptaxscam\". Now let's see what the histogram looks like:"
   ]
  },
  {
   "cell_type": "code",
   "execution_count": 67,
   "metadata": {},
   "outputs": [
    {
     "data": {
      "text/plain": [
       "[<matplotlib.lines.Line2D at 0x7fa913d83730>]"
      ]
     },
     "execution_count": 67,
     "metadata": {},
     "output_type": "execute_result"
    },
    {
     "data": {
      "image/png": "[encoded data removed]",
      "text/plain": [
       "<Figure size 1224x504 with 1 Axes>"
      ]
     },
     "metadata": {
      "image/png": {
       "height": 415,
       "width": 995
      },
      "needs_background": "light"
     },
     "output_type": "display_data"
    }
   ],
   "source": [
    "plt.hist(stats, density=True)\n",
    "plt.plot([obs, obs], [0, 25], color='red')"
   ]
  },
  {
   "cell_type": "markdown",
   "metadata": {},
   "source": [
    "What this tells us is the same as the visualization and hypothesis test for the overall research question; this difference is statistically significant and Democrats have a significant proportion of their tweets that are classified as negative in comparison to Republicans. Thus in this context we would again reject the null hypothesis in favor of the alternative. There is a statistically significant difference in proportion; on this topic Democrats have a disproportionately higher number of negative tweets in comparison to Republicans."
   ]
  },
  {
   "cell_type": "markdown",
   "metadata": {},
   "source": [
    "# Ethics & Privacy"
   ]
  },
  {
   "cell_type": "markdown",
   "metadata": {},
   "source": [
    "A major concern of this research focus is the possible invasion of privacy as the data comes from public accounts that contain personal information. Since Twitter posts are linked to the poster’s account information, it is important that steps are taken to anonymize the data collected. One of such would be to detach the specific politician’s identity from the tweet itself. Another step would be to remove keywords that might lead to the identification of the politician. With the exception of keeping the publicly available information of what political party they are affiliated with, all other personal information would be anonymized.\n",
    "\n",
    "For our research questions, we are only looking at the two most popular political parties, however, it is important to note that there are many parties that we are not including. While this does create an issue of representation, a limitation like this in today’s US political climate is reasonable given the dominance of both parties.\n",
    "\n",
    "The datasets we used are all public and we were given permission for access to the Twitter API dataset. Along these lines, it's important to note that not all politicians use Twitter. This can have an effect on our data leading to our result really only being relevant to twitter using politicians which is important to note when analyzing the results.\n",
    "\n",
    "Although the research question relies on data collected from political representatives, it targets an issue that affects all consumers of social media. With the pervasiveness of social media in the everyday life, the lens that a narrative is cast through has the potential to skew a consumer’s interpretation of a situation. Therefore it is important to analyze whether a specific political party has more tendency to use negative sentiments and if so, attempt to grasp the motivation behind their usage of negative sentiments.\n"
   ]
  },
  {
   "cell_type": "markdown",
   "metadata": {},
   "source": [
    "# Conclusion & Discussion"
   ]
  },
  {
   "cell_type": "markdown",
   "metadata": {},
   "source": [
    "From the results of our testing, we found out that the Republican party is actually the one who had higher average sentiment within their tweets than the Democratic party (the opposite of our hypothesis). Then when trying to look for reasons why this could have occurred we looked into two possible reasons: (1) sentiment possibly affects the popularity of a tweet (ex.: more negative tweets attract more attention) and (2) certain topics are more prevalent in certain political parties, and by nature, those topics might shift the overall sentiment of their tweets.  We ran hypothesis tests to check if any of our possible reasons for sentiment are true, and we found that there is (1) no significant difference in sentiment between two political parties when it comes to the same shared topic between the parties, as well as (2) there is so significant correlation between sentiment and popularity/engagement of the tweet (where popularity/engagement is based on likes, retweets, and comments).\n",
    "\n",
    "We also did have some constraints within this project. The first one would most likely be us trusting VADER to determine the sentiment of a tweet in a proper manner. We didn’t build a custom model for the sentiment analysis portion, so we just purely relied on whatever VADER would provide to us for the sentiment analysis. The main issue with this is that the VADER model is a 2014 model so it is possible that it is out of date when measuring the sentiment of words that has shifted in sentiment overtime (think of words like “COVID” or “pandemic”). The second limitation is the sample size. We were able to find a list of politicians registered on twitter and used their twitter IDs to track their tweets. However, the database we used might not have included the full list of current or recent politicians. Last but not least, we also had some tweets within our sample that could be considered “throwaway” tweets. Those would be the tweets that have no meaning to them whatsoever, such as someone tweeting “-Test” (which was one of the samples). Those tweets could have possibly skewed the result for our analysis and affected our overall outcome within this research but were not removed to allow for more general results.\n"
   ]
  },
  {
   "cell_type": "markdown",
   "metadata": {},
   "source": [
    "# Team Contributions"
   ]
  },
  {
   "cell_type": "markdown",
   "metadata": {},
   "source": [
    "Costin: Interfaced with the Twitter API, as well as assembled and cleaned csv for future use. Handled most of the data collection, as well as assisted on the analysis section, EDA section, and compiled most of the final project. Final proofreader.\n",
    "\n",
    "Vedan: Handled the EDA section and video. Assisted on the hypothesis testing phase of analysis, and some of the final compilation. Final proofreader.\n",
    "\n",
    "George: Implemented VADER portions and also handled the correlation analysis. Assisted with the compilation and EDA, also drafted conclusion.\n",
    "\n",
    "Karen: Implemented VADER portions and handled the permutation testing aspect of the analysis section. Assisted with the compilation and EDA. Also assisted in drafting conclusion.\n",
    "\n",
    "Aleene: Handled Ethics & Privacy section, as well as assisted with conclusion and EDA."
   ]
  },
  {
   "cell_type": "code",
   "execution_count": null,
   "metadata": {},
   "outputs": [],
   "source": []
  }
 ],
 "metadata": {
  "kernelspec": {
   "display_name": "Python 3",
   "language": "python",
   "name": "python3"
  },
  "language_info": {
   "codemirror_mode": {
    "name": "ipython",
    "version": 3
   },
   "file_extension": ".py",
   "mimetype": "text/x-python",
   "name": "python",
   "nbconvert_exporter": "python",
   "pygments_lexer": "ipython3",
   "version": "3.8.8"
  }
 },
 "nbformat": 4,
 "nbformat_minor": 2
}
